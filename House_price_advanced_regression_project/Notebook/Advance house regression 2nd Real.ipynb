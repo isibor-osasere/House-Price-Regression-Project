{
 "cells": [
  {
   "cell_type": "markdown",
   "id": "2eca0b59",
   "metadata": {},
   "source": [
    "## Importing required models"
   ]
  },
  {
   "cell_type": "code",
   "execution_count": 1,
   "id": "d6a69e28",
   "metadata": {},
   "outputs": [],
   "source": [
    "import pandas as pd\n",
    "import numpy as np\n",
    "import seaborn as sns\n",
    "import matplotlib.pyplot as plt\n",
    "from outlier_treatment import p_outliers, iqr_outliers"
   ]
  },
  {
   "cell_type": "markdown",
   "id": "c4412aec",
   "metadata": {},
   "source": [
    "## Importing and Concatenating Train and Test Dataset using pandas.concat"
   ]
  },
  {
   "cell_type": "code",
   "execution_count": 14,
   "id": "c613adb8",
   "metadata": {},
   "outputs": [],
   "source": [
    "df1 = pd.read_csv (\"train.csv\")\n",
    "df2 = pd.read_csv (\"test.csv\")"
   ]
  },
  {
   "cell_type": "code",
   "execution_count": 336,
   "id": "48c8368e",
   "metadata": {},
   "outputs": [
    {
     "data": {
      "text/html": [
       "<div>\n",
       "<style scoped>\n",
       "    .dataframe tbody tr th:only-of-type {\n",
       "        vertical-align: middle;\n",
       "    }\n",
       "\n",
       "    .dataframe tbody tr th {\n",
       "        vertical-align: top;\n",
       "    }\n",
       "\n",
       "    .dataframe thead th {\n",
       "        text-align: right;\n",
       "    }\n",
       "</style>\n",
       "<table border=\"1\" class=\"dataframe\">\n",
       "  <thead>\n",
       "    <tr style=\"text-align: right;\">\n",
       "      <th></th>\n",
       "      <th>Id</th>\n",
       "      <th>MSSubClass</th>\n",
       "      <th>MSZoning</th>\n",
       "      <th>LotFrontage</th>\n",
       "      <th>LotArea</th>\n",
       "      <th>Street</th>\n",
       "      <th>LotShape</th>\n",
       "      <th>LandContour</th>\n",
       "      <th>Utilities</th>\n",
       "      <th>LotConfig</th>\n",
       "      <th>...</th>\n",
       "      <th>EnclosedPorch</th>\n",
       "      <th>3SsnPorch</th>\n",
       "      <th>ScreenPorch</th>\n",
       "      <th>PoolArea</th>\n",
       "      <th>MiscVal</th>\n",
       "      <th>MoSold</th>\n",
       "      <th>YrSold</th>\n",
       "      <th>SaleType</th>\n",
       "      <th>SaleCondition</th>\n",
       "      <th>SalePrice</th>\n",
       "    </tr>\n",
       "  </thead>\n",
       "  <tbody>\n",
       "    <tr>\n",
       "      <th>1457</th>\n",
       "      <td>1458</td>\n",
       "      <td>70</td>\n",
       "      <td>RL</td>\n",
       "      <td>66.0</td>\n",
       "      <td>9042</td>\n",
       "      <td>Pave</td>\n",
       "      <td>Reg</td>\n",
       "      <td>Lvl</td>\n",
       "      <td>AllPub</td>\n",
       "      <td>Inside</td>\n",
       "      <td>...</td>\n",
       "      <td>0</td>\n",
       "      <td>0</td>\n",
       "      <td>0</td>\n",
       "      <td>0</td>\n",
       "      <td>2500</td>\n",
       "      <td>5</td>\n",
       "      <td>2010</td>\n",
       "      <td>WD</td>\n",
       "      <td>Normal</td>\n",
       "      <td>266500</td>\n",
       "    </tr>\n",
       "    <tr>\n",
       "      <th>1458</th>\n",
       "      <td>1459</td>\n",
       "      <td>20</td>\n",
       "      <td>RL</td>\n",
       "      <td>68.0</td>\n",
       "      <td>9717</td>\n",
       "      <td>Pave</td>\n",
       "      <td>Reg</td>\n",
       "      <td>Lvl</td>\n",
       "      <td>AllPub</td>\n",
       "      <td>Inside</td>\n",
       "      <td>...</td>\n",
       "      <td>112</td>\n",
       "      <td>0</td>\n",
       "      <td>0</td>\n",
       "      <td>0</td>\n",
       "      <td>0</td>\n",
       "      <td>4</td>\n",
       "      <td>2010</td>\n",
       "      <td>WD</td>\n",
       "      <td>Normal</td>\n",
       "      <td>142125</td>\n",
       "    </tr>\n",
       "    <tr>\n",
       "      <th>1459</th>\n",
       "      <td>1460</td>\n",
       "      <td>20</td>\n",
       "      <td>RL</td>\n",
       "      <td>75.0</td>\n",
       "      <td>9937</td>\n",
       "      <td>Pave</td>\n",
       "      <td>Reg</td>\n",
       "      <td>Lvl</td>\n",
       "      <td>AllPub</td>\n",
       "      <td>Inside</td>\n",
       "      <td>...</td>\n",
       "      <td>0</td>\n",
       "      <td>0</td>\n",
       "      <td>0</td>\n",
       "      <td>0</td>\n",
       "      <td>0</td>\n",
       "      <td>6</td>\n",
       "      <td>2008</td>\n",
       "      <td>WD</td>\n",
       "      <td>Normal</td>\n",
       "      <td>147500</td>\n",
       "    </tr>\n",
       "  </tbody>\n",
       "</table>\n",
       "<p>3 rows × 77 columns</p>\n",
       "</div>"
      ],
      "text/plain": [
       "        Id  MSSubClass MSZoning  LotFrontage  LotArea Street LotShape  \\\n",
       "1457  1458          70       RL         66.0     9042   Pave      Reg   \n",
       "1458  1459          20       RL         68.0     9717   Pave      Reg   \n",
       "1459  1460          20       RL         75.0     9937   Pave      Reg   \n",
       "\n",
       "     LandContour Utilities LotConfig  ... EnclosedPorch 3SsnPorch ScreenPorch  \\\n",
       "1457         Lvl    AllPub    Inside  ...             0         0           0   \n",
       "1458         Lvl    AllPub    Inside  ...           112         0           0   \n",
       "1459         Lvl    AllPub    Inside  ...             0         0           0   \n",
       "\n",
       "     PoolArea MiscVal MoSold  YrSold  SaleType  SaleCondition  SalePrice  \n",
       "1457        0    2500      5    2010        WD         Normal     266500  \n",
       "1458        0       0      4    2010        WD         Normal     142125  \n",
       "1459        0       0      6    2008        WD         Normal     147500  \n",
       "\n",
       "[3 rows x 77 columns]"
      ]
     },
     "execution_count": 336,
     "metadata": {},
     "output_type": "execute_result"
    }
   ],
   "source": [
    "df1.tail (3)"
   ]
  },
  {
   "cell_type": "code",
   "execution_count": 326,
   "id": "f042697a",
   "metadata": {},
   "outputs": [
    {
     "data": {
      "text/html": [
       "<div>\n",
       "<style scoped>\n",
       "    .dataframe tbody tr th:only-of-type {\n",
       "        vertical-align: middle;\n",
       "    }\n",
       "\n",
       "    .dataframe tbody tr th {\n",
       "        vertical-align: top;\n",
       "    }\n",
       "\n",
       "    .dataframe thead th {\n",
       "        text-align: right;\n",
       "    }\n",
       "</style>\n",
       "<table border=\"1\" class=\"dataframe\">\n",
       "  <thead>\n",
       "    <tr style=\"text-align: right;\">\n",
       "      <th></th>\n",
       "      <th>Id</th>\n",
       "      <th>MSSubClass</th>\n",
       "      <th>MSZoning</th>\n",
       "      <th>LotFrontage</th>\n",
       "      <th>LotArea</th>\n",
       "      <th>Street</th>\n",
       "      <th>Alley</th>\n",
       "      <th>LotShape</th>\n",
       "      <th>LandContour</th>\n",
       "      <th>Utilities</th>\n",
       "      <th>...</th>\n",
       "      <th>ScreenPorch</th>\n",
       "      <th>PoolArea</th>\n",
       "      <th>PoolQC</th>\n",
       "      <th>Fence</th>\n",
       "      <th>MiscFeature</th>\n",
       "      <th>MiscVal</th>\n",
       "      <th>MoSold</th>\n",
       "      <th>YrSold</th>\n",
       "      <th>SaleType</th>\n",
       "      <th>SaleCondition</th>\n",
       "    </tr>\n",
       "  </thead>\n",
       "  <tbody>\n",
       "    <tr>\n",
       "      <th>0</th>\n",
       "      <td>1461</td>\n",
       "      <td>20</td>\n",
       "      <td>RH</td>\n",
       "      <td>80.0</td>\n",
       "      <td>11622</td>\n",
       "      <td>Pave</td>\n",
       "      <td>NaN</td>\n",
       "      <td>Reg</td>\n",
       "      <td>Lvl</td>\n",
       "      <td>AllPub</td>\n",
       "      <td>...</td>\n",
       "      <td>120</td>\n",
       "      <td>0</td>\n",
       "      <td>NaN</td>\n",
       "      <td>MnPrv</td>\n",
       "      <td>NaN</td>\n",
       "      <td>0</td>\n",
       "      <td>6</td>\n",
       "      <td>2010</td>\n",
       "      <td>WD</td>\n",
       "      <td>Normal</td>\n",
       "    </tr>\n",
       "    <tr>\n",
       "      <th>1</th>\n",
       "      <td>1462</td>\n",
       "      <td>20</td>\n",
       "      <td>RL</td>\n",
       "      <td>81.0</td>\n",
       "      <td>14267</td>\n",
       "      <td>Pave</td>\n",
       "      <td>NaN</td>\n",
       "      <td>IR1</td>\n",
       "      <td>Lvl</td>\n",
       "      <td>AllPub</td>\n",
       "      <td>...</td>\n",
       "      <td>0</td>\n",
       "      <td>0</td>\n",
       "      <td>NaN</td>\n",
       "      <td>NaN</td>\n",
       "      <td>Gar2</td>\n",
       "      <td>12500</td>\n",
       "      <td>6</td>\n",
       "      <td>2010</td>\n",
       "      <td>WD</td>\n",
       "      <td>Normal</td>\n",
       "    </tr>\n",
       "    <tr>\n",
       "      <th>2</th>\n",
       "      <td>1463</td>\n",
       "      <td>60</td>\n",
       "      <td>RL</td>\n",
       "      <td>74.0</td>\n",
       "      <td>13830</td>\n",
       "      <td>Pave</td>\n",
       "      <td>NaN</td>\n",
       "      <td>IR1</td>\n",
       "      <td>Lvl</td>\n",
       "      <td>AllPub</td>\n",
       "      <td>...</td>\n",
       "      <td>0</td>\n",
       "      <td>0</td>\n",
       "      <td>NaN</td>\n",
       "      <td>MnPrv</td>\n",
       "      <td>NaN</td>\n",
       "      <td>0</td>\n",
       "      <td>3</td>\n",
       "      <td>2010</td>\n",
       "      <td>WD</td>\n",
       "      <td>Normal</td>\n",
       "    </tr>\n",
       "  </tbody>\n",
       "</table>\n",
       "<p>3 rows × 80 columns</p>\n",
       "</div>"
      ],
      "text/plain": [
       "     Id  MSSubClass MSZoning  LotFrontage  LotArea Street Alley LotShape  \\\n",
       "0  1461          20       RH         80.0    11622   Pave   NaN      Reg   \n",
       "1  1462          20       RL         81.0    14267   Pave   NaN      IR1   \n",
       "2  1463          60       RL         74.0    13830   Pave   NaN      IR1   \n",
       "\n",
       "  LandContour Utilities  ... ScreenPorch PoolArea PoolQC  Fence MiscFeature  \\\n",
       "0         Lvl    AllPub  ...         120        0    NaN  MnPrv         NaN   \n",
       "1         Lvl    AllPub  ...           0        0    NaN    NaN        Gar2   \n",
       "2         Lvl    AllPub  ...           0        0    NaN  MnPrv         NaN   \n",
       "\n",
       "  MiscVal MoSold  YrSold  SaleType  SaleCondition  \n",
       "0       0      6    2010        WD         Normal  \n",
       "1   12500      6    2010        WD         Normal  \n",
       "2       0      3    2010        WD         Normal  \n",
       "\n",
       "[3 rows x 80 columns]"
      ]
     },
     "execution_count": 326,
     "metadata": {},
     "output_type": "execute_result"
    }
   ],
   "source": [
    "df2.head (3)"
   ]
  },
  {
   "cell_type": "code",
   "execution_count": 17,
   "id": "502085d2",
   "metadata": {},
   "outputs": [],
   "source": [
    "df = pd.concat ([df1, df2], axis = 0, ignore_index = True)"
   ]
  },
  {
   "cell_type": "code",
   "execution_count": 18,
   "id": "4b48ee28",
   "metadata": {},
   "outputs": [
    {
     "data": {
      "text/html": [
       "<div>\n",
       "<style scoped>\n",
       "    .dataframe tbody tr th:only-of-type {\n",
       "        vertical-align: middle;\n",
       "    }\n",
       "\n",
       "    .dataframe tbody tr th {\n",
       "        vertical-align: top;\n",
       "    }\n",
       "\n",
       "    .dataframe thead th {\n",
       "        text-align: right;\n",
       "    }\n",
       "</style>\n",
       "<table border=\"1\" class=\"dataframe\">\n",
       "  <thead>\n",
       "    <tr style=\"text-align: right;\">\n",
       "      <th></th>\n",
       "      <th>Id</th>\n",
       "      <th>MSSubClass</th>\n",
       "      <th>MSZoning</th>\n",
       "      <th>LotFrontage</th>\n",
       "      <th>LotArea</th>\n",
       "      <th>Street</th>\n",
       "      <th>Alley</th>\n",
       "      <th>LotShape</th>\n",
       "      <th>LandContour</th>\n",
       "      <th>Utilities</th>\n",
       "      <th>...</th>\n",
       "      <th>PoolArea</th>\n",
       "      <th>PoolQC</th>\n",
       "      <th>Fence</th>\n",
       "      <th>MiscFeature</th>\n",
       "      <th>MiscVal</th>\n",
       "      <th>MoSold</th>\n",
       "      <th>YrSold</th>\n",
       "      <th>SaleType</th>\n",
       "      <th>SaleCondition</th>\n",
       "      <th>SalePrice</th>\n",
       "    </tr>\n",
       "  </thead>\n",
       "  <tbody>\n",
       "    <tr>\n",
       "      <th>2914</th>\n",
       "      <td>2915</td>\n",
       "      <td>160</td>\n",
       "      <td>RM</td>\n",
       "      <td>21.0</td>\n",
       "      <td>1936</td>\n",
       "      <td>Pave</td>\n",
       "      <td>NaN</td>\n",
       "      <td>Reg</td>\n",
       "      <td>Lvl</td>\n",
       "      <td>AllPub</td>\n",
       "      <td>...</td>\n",
       "      <td>0</td>\n",
       "      <td>NaN</td>\n",
       "      <td>NaN</td>\n",
       "      <td>NaN</td>\n",
       "      <td>0</td>\n",
       "      <td>6</td>\n",
       "      <td>2006</td>\n",
       "      <td>WD</td>\n",
       "      <td>Normal</td>\n",
       "      <td>NaN</td>\n",
       "    </tr>\n",
       "    <tr>\n",
       "      <th>2915</th>\n",
       "      <td>2916</td>\n",
       "      <td>160</td>\n",
       "      <td>RM</td>\n",
       "      <td>21.0</td>\n",
       "      <td>1894</td>\n",
       "      <td>Pave</td>\n",
       "      <td>NaN</td>\n",
       "      <td>Reg</td>\n",
       "      <td>Lvl</td>\n",
       "      <td>AllPub</td>\n",
       "      <td>...</td>\n",
       "      <td>0</td>\n",
       "      <td>NaN</td>\n",
       "      <td>NaN</td>\n",
       "      <td>NaN</td>\n",
       "      <td>0</td>\n",
       "      <td>4</td>\n",
       "      <td>2006</td>\n",
       "      <td>WD</td>\n",
       "      <td>Abnorml</td>\n",
       "      <td>NaN</td>\n",
       "    </tr>\n",
       "    <tr>\n",
       "      <th>2916</th>\n",
       "      <td>2917</td>\n",
       "      <td>20</td>\n",
       "      <td>RL</td>\n",
       "      <td>160.0</td>\n",
       "      <td>20000</td>\n",
       "      <td>Pave</td>\n",
       "      <td>NaN</td>\n",
       "      <td>Reg</td>\n",
       "      <td>Lvl</td>\n",
       "      <td>AllPub</td>\n",
       "      <td>...</td>\n",
       "      <td>0</td>\n",
       "      <td>NaN</td>\n",
       "      <td>NaN</td>\n",
       "      <td>NaN</td>\n",
       "      <td>0</td>\n",
       "      <td>9</td>\n",
       "      <td>2006</td>\n",
       "      <td>WD</td>\n",
       "      <td>Abnorml</td>\n",
       "      <td>NaN</td>\n",
       "    </tr>\n",
       "    <tr>\n",
       "      <th>2917</th>\n",
       "      <td>2918</td>\n",
       "      <td>85</td>\n",
       "      <td>RL</td>\n",
       "      <td>62.0</td>\n",
       "      <td>10441</td>\n",
       "      <td>Pave</td>\n",
       "      <td>NaN</td>\n",
       "      <td>Reg</td>\n",
       "      <td>Lvl</td>\n",
       "      <td>AllPub</td>\n",
       "      <td>...</td>\n",
       "      <td>0</td>\n",
       "      <td>NaN</td>\n",
       "      <td>MnPrv</td>\n",
       "      <td>Shed</td>\n",
       "      <td>700</td>\n",
       "      <td>7</td>\n",
       "      <td>2006</td>\n",
       "      <td>WD</td>\n",
       "      <td>Normal</td>\n",
       "      <td>NaN</td>\n",
       "    </tr>\n",
       "    <tr>\n",
       "      <th>2918</th>\n",
       "      <td>2919</td>\n",
       "      <td>60</td>\n",
       "      <td>RL</td>\n",
       "      <td>74.0</td>\n",
       "      <td>9627</td>\n",
       "      <td>Pave</td>\n",
       "      <td>NaN</td>\n",
       "      <td>Reg</td>\n",
       "      <td>Lvl</td>\n",
       "      <td>AllPub</td>\n",
       "      <td>...</td>\n",
       "      <td>0</td>\n",
       "      <td>NaN</td>\n",
       "      <td>NaN</td>\n",
       "      <td>NaN</td>\n",
       "      <td>0</td>\n",
       "      <td>11</td>\n",
       "      <td>2006</td>\n",
       "      <td>WD</td>\n",
       "      <td>Normal</td>\n",
       "      <td>NaN</td>\n",
       "    </tr>\n",
       "  </tbody>\n",
       "</table>\n",
       "<p>5 rows × 81 columns</p>\n",
       "</div>"
      ],
      "text/plain": [
       "        Id  MSSubClass MSZoning  LotFrontage  LotArea Street Alley LotShape  \\\n",
       "2914  2915         160       RM         21.0     1936   Pave   NaN      Reg   \n",
       "2915  2916         160       RM         21.0     1894   Pave   NaN      Reg   \n",
       "2916  2917          20       RL        160.0    20000   Pave   NaN      Reg   \n",
       "2917  2918          85       RL         62.0    10441   Pave   NaN      Reg   \n",
       "2918  2919          60       RL         74.0     9627   Pave   NaN      Reg   \n",
       "\n",
       "     LandContour Utilities  ... PoolArea PoolQC  Fence MiscFeature MiscVal  \\\n",
       "2914         Lvl    AllPub  ...        0    NaN    NaN         NaN       0   \n",
       "2915         Lvl    AllPub  ...        0    NaN    NaN         NaN       0   \n",
       "2916         Lvl    AllPub  ...        0    NaN    NaN         NaN       0   \n",
       "2917         Lvl    AllPub  ...        0    NaN  MnPrv        Shed     700   \n",
       "2918         Lvl    AllPub  ...        0    NaN    NaN         NaN       0   \n",
       "\n",
       "     MoSold YrSold  SaleType  SaleCondition  SalePrice  \n",
       "2914      6   2006        WD         Normal        NaN  \n",
       "2915      4   2006        WD        Abnorml        NaN  \n",
       "2916      9   2006        WD        Abnorml        NaN  \n",
       "2917      7   2006        WD         Normal        NaN  \n",
       "2918     11   2006        WD         Normal        NaN  \n",
       "\n",
       "[5 rows x 81 columns]"
      ]
     },
     "execution_count": 18,
     "metadata": {},
     "output_type": "execute_result"
    }
   ],
   "source": [
    "df.tail (5)"
   ]
  },
  {
   "cell_type": "markdown",
   "id": "802f0ef0",
   "metadata": {},
   "source": [
    "## Renaming Integer Columns"
   ]
  },
  {
   "cell_type": "code",
   "execution_count": 91,
   "id": "f8dcb155",
   "metadata": {},
   "outputs": [],
   "source": [
    "df = df.rename (columns = {\"1stFlrSF\": \"First\", \"2ndFlrSF\": \"second\", \"3SsnPorch\": \"SsnPorch\" })"
   ]
  },
  {
   "cell_type": "markdown",
   "id": "7e0b5cf4",
   "metadata": {},
   "source": [
    "## Dataset Observation"
   ]
  },
  {
   "cell_type": "code",
   "execution_count": 299,
   "id": "9b505ab9",
   "metadata": {},
   "outputs": [],
   "source": [
    "a = p_outliers (df, [\"TotalBsmtSF\"])\n",
    "b = iqr_outliers (df, [\"GarageArea\"])"
   ]
  },
  {
   "cell_type": "code",
   "execution_count": 300,
   "id": "4f6d968d",
   "metadata": {},
   "outputs": [
    {
     "name": "stdout",
     "output_type": "stream",
     "text": [
      "\n",
      "lower_limit: 8.85 \n",
      "upper_limit: 6196.5 \n",
      "\n",
      "\n",
      "\n",
      "lower_limit: -64.0 \n",
      "upper_limit: 960.0 \n",
      "\n",
      "Min: 0.0 \n",
      "Max: 1488.0\n",
      "\n",
      "\n",
      " count    2919.000000\n",
      "mean      472.736316\n",
      "std       215.487407\n",
      "min         0.000000\n",
      "25%       320.000000\n",
      "50%       480.000000\n",
      "75%       576.000000\n",
      "max      1488.000000\n",
      "Name: GarageArea, dtype: float64\n",
      "\n"
     ]
    }
   ],
   "source": [
    "print (a)\n",
    "print (b)"
   ]
  },
  {
   "cell_type": "code",
   "execution_count": 297,
   "id": "09e06489",
   "metadata": {},
   "outputs": [
    {
     "data": {
      "text/plain": [
       "<AxesSubplot:ylabel='GarageCars'>"
      ]
     },
     "execution_count": 297,
     "metadata": {},
     "output_type": "execute_result"
    },
    {
     "data": {
      "image/png": "[encoded data removed]",
      "text/plain": [
       "<Figure size 432x288 with 1 Axes>"
      ]
     },
     "metadata": {
      "needs_background": "light"
     },
     "output_type": "display_data"
    }
   ],
   "source": [
    "sns.boxplot (y = df[\"GarageCars\"], data = df)"
   ]
  },
  {
   "cell_type": "code",
   "execution_count": 298,
   "id": "503829de",
   "metadata": {},
   "outputs": [
    {
     "data": {
      "text/plain": [
       "<AxesSubplot:>"
      ]
     },
     "execution_count": 298,
     "metadata": {},
     "output_type": "execute_result"
    },
    {
     "data": {
      "image/png": "[encoded data removed]",
      "text/plain": [
       "<Figure size 432x288 with 1 Axes>"
      ]
     },
     "metadata": {
      "needs_background": "light"
     },
     "output_type": "display_data"
    }
   ],
   "source": [
    "df[\"GarageCars\"].hist (color = \"r\", bins = 30)"
   ]
  },
  {
   "cell_type": "code",
   "execution_count": 303,
   "id": "7e6ef370",
   "metadata": {},
   "outputs": [
    {
     "data": {
      "text/html": [
       "<div>\n",
       "<style scoped>\n",
       "    .dataframe tbody tr th:only-of-type {\n",
       "        vertical-align: middle;\n",
       "    }\n",
       "\n",
       "    .dataframe tbody tr th {\n",
       "        vertical-align: top;\n",
       "    }\n",
       "\n",
       "    .dataframe thead th {\n",
       "        text-align: right;\n",
       "    }\n",
       "</style>\n",
       "<table border=\"1\" class=\"dataframe\">\n",
       "  <thead>\n",
       "    <tr style=\"text-align: right;\">\n",
       "      <th></th>\n",
       "      <th>RoofStyle</th>\n",
       "    </tr>\n",
       "  </thead>\n",
       "  <tbody>\n",
       "    <tr>\n",
       "      <th>count</th>\n",
       "      <td>2919</td>\n",
       "    </tr>\n",
       "    <tr>\n",
       "      <th>unique</th>\n",
       "      <td>6</td>\n",
       "    </tr>\n",
       "    <tr>\n",
       "      <th>top</th>\n",
       "      <td>Gable</td>\n",
       "    </tr>\n",
       "    <tr>\n",
       "      <th>freq</th>\n",
       "      <td>2310</td>\n",
       "    </tr>\n",
       "  </tbody>\n",
       "</table>\n",
       "</div>"
      ],
      "text/plain": [
       "       RoofStyle\n",
       "count       2919\n",
       "unique         6\n",
       "top        Gable\n",
       "freq        2310"
      ]
     },
     "execution_count": 303,
     "metadata": {},
     "output_type": "execute_result"
    }
   ],
   "source": [
    "df[[\"RoofStyle\", ]].describe ()"
   ]
  },
  {
   "cell_type": "code",
   "execution_count": 309,
   "id": "75a086d5",
   "metadata": {},
   "outputs": [
    {
     "name": "stdout",
     "output_type": "stream",
     "text": [
      "<class 'pandas.core.frame.DataFrame'>\n",
      "RangeIndex: 2919 entries, 0 to 2918\n",
      "Columns: 295 entries, Id to RoofMatl_WdShngl\n",
      "dtypes: float64(18), int64(20), uint8(257)\n",
      "memory usage: 1.6 MB\n"
     ]
    }
   ],
   "source": [
    "df.info ()"
   ]
  },
  {
   "cell_type": "markdown",
   "id": "7d32b576",
   "metadata": {},
   "source": [
    "## Outliers Treatment"
   ]
  },
  {
   "cell_type": "code",
   "execution_count": 24,
   "id": "944788e7",
   "metadata": {},
   "outputs": [
    {
     "name": "stderr",
     "output_type": "stream",
     "text": [
      "C:\\Users\\USER\\AppData\\Local\\Temp/ipykernel_6276/3523168429.py:1: SettingWithCopyWarning: \n",
      "A value is trying to be set on a copy of a slice from a DataFrame\n",
      "\n",
      "See the caveats in the documentation: https://pandas.pydata.org/pandas-docs/stable/user_guide/indexing.html#returning-a-view-versus-a-copy\n",
      "  df.MSSubClass[(df.MSSubClass >= 145)] = 145\n"
     ]
    }
   ],
   "source": [
    "df.MSSubClass[(df.MSSubClass >= 145)] = 145"
   ]
  },
  {
   "cell_type": "code",
   "execution_count": 34,
   "id": "07d59b27",
   "metadata": {},
   "outputs": [
    {
     "name": "stderr",
     "output_type": "stream",
     "text": [
      "C:\\Users\\USER\\AppData\\Local\\Temp/ipykernel_6276/235833652.py:1: SettingWithCopyWarning: \n",
      "A value is trying to be set on a copy of a slice from a DataFrame\n",
      "\n",
      "See the caveats in the documentation: https://pandas.pydata.org/pandas-docs/stable/user_guide/indexing.html#returning-a-view-versus-a-copy\n",
      "  df.LotArea[(df.LotArea >= 17708)] = 17708\n"
     ]
    }
   ],
   "source": [
    "df.LotArea[(df.LotArea >= 17708)] = 17708"
   ]
  },
  {
   "cell_type": "code",
   "execution_count": 42,
   "id": "fce8bea3",
   "metadata": {},
   "outputs": [
    {
     "name": "stderr",
     "output_type": "stream",
     "text": [
      "C:\\Users\\USER\\AppData\\Local\\Temp/ipykernel_6276/2711388408.py:1: SettingWithCopyWarning: \n",
      "A value is trying to be set on a copy of a slice from a DataFrame\n",
      "\n",
      "See the caveats in the documentation: https://pandas.pydata.org/pandas-docs/stable/user_guide/indexing.html#returning-a-view-versus-a-copy\n",
      "  df.LotArea[(df.LotArea <= 1340)] = 1340\n"
     ]
    }
   ],
   "source": [
    "df.LotArea[(df.LotArea <= 1340)] = 1340"
   ]
  },
  {
   "cell_type": "code",
   "execution_count": 61,
   "id": "f9c71a7b",
   "metadata": {},
   "outputs": [
    {
     "name": "stderr",
     "output_type": "stream",
     "text": [
      "C:\\Users\\USER\\AppData\\Local\\Temp/ipykernel_6276/466877044.py:1: SettingWithCopyWarning: \n",
      "A value is trying to be set on a copy of a slice from a DataFrame\n",
      "\n",
      "See the caveats in the documentation: https://pandas.pydata.org/pandas-docs/stable/user_guide/indexing.html#returning-a-view-versus-a-copy\n",
      "  df.OverallQual[(df.OverallQual < 2)] = 2\n"
     ]
    }
   ],
   "source": [
    "df.OverallQual[(df.OverallQual < 2)] = 2"
   ]
  },
  {
   "cell_type": "code",
   "execution_count": 71,
   "id": "a591d935",
   "metadata": {},
   "outputs": [
    {
     "name": "stderr",
     "output_type": "stream",
     "text": [
      "C:\\Users\\USER\\AppData\\Local\\Temp/ipykernel_6276/4035193824.py:1: SettingWithCopyWarning: \n",
      "A value is trying to be set on a copy of a slice from a DataFrame\n",
      "\n",
      "See the caveats in the documentation: https://pandas.pydata.org/pandas-docs/stable/user_guide/indexing.html#returning-a-view-versus-a-copy\n",
      "  df.OverallCond[(df.OverallCond <= 3.5)] = 3.5\n"
     ]
    }
   ],
   "source": [
    "df.OverallCond[(df.OverallCond <= 3.5)] = 3.5"
   ]
  },
  {
   "cell_type": "code",
   "execution_count": 74,
   "id": "1c30b9a8",
   "metadata": {},
   "outputs": [
    {
     "name": "stderr",
     "output_type": "stream",
     "text": [
      "C:\\Users\\USER\\AppData\\Local\\Temp/ipykernel_6276/2122219866.py:1: SettingWithCopyWarning: \n",
      "A value is trying to be set on a copy of a slice from a DataFrame\n",
      "\n",
      "See the caveats in the documentation: https://pandas.pydata.org/pandas-docs/stable/user_guide/indexing.html#returning-a-view-versus-a-copy\n",
      "  df.OverallCond[(df.OverallCond >= 7.5)] = 7.5\n"
     ]
    }
   ],
   "source": [
    "df.OverallCond[(df.OverallCond >= 7.5)] = 7.5"
   ]
  },
  {
   "cell_type": "code",
   "execution_count": 102,
   "id": "e1405adb",
   "metadata": {},
   "outputs": [
    {
     "name": "stderr",
     "output_type": "stream",
     "text": [
      "C:\\Users\\USER\\AppData\\Local\\Temp/ipykernel_6276/1604275773.py:1: SettingWithCopyWarning: \n",
      "A value is trying to be set on a copy of a slice from a DataFrame\n",
      "\n",
      "See the caveats in the documentation: https://pandas.pydata.org/pandas-docs/stable/user_guide/indexing.html#returning-a-view-versus-a-copy\n",
      "  df.First[(df.First >= 2154.75)] = 2154.75\n"
     ]
    }
   ],
   "source": [
    "df.First[(df.First >= 2154.75)] = 2154.75"
   ]
  },
  {
   "cell_type": "code",
   "execution_count": 111,
   "id": "820b7571",
   "metadata": {},
   "outputs": [
    {
     "name": "stderr",
     "output_type": "stream",
     "text": [
      "C:\\Users\\USER\\AppData\\Local\\Temp/ipykernel_6276/2364926325.py:1: SettingWithCopyWarning: \n",
      "A value is trying to be set on a copy of a slice from a DataFrame\n",
      "\n",
      "See the caveats in the documentation: https://pandas.pydata.org/pandas-docs/stable/user_guide/indexing.html#returning-a-view-versus-a-copy\n",
      "  df.second[(df.second >= 1760)] = 1760\n"
     ]
    }
   ],
   "source": [
    "df.second[(df.second >= 1760)] = 1760"
   ]
  },
  {
   "cell_type": "code",
   "execution_count": 118,
   "id": "27ed70a1",
   "metadata": {},
   "outputs": [
    {
     "name": "stderr",
     "output_type": "stream",
     "text": [
      "C:\\Users\\USER\\AppData\\Local\\Temp/ipykernel_6276/853646511.py:1: SettingWithCopyWarning: \n",
      "A value is trying to be set on a copy of a slice from a DataFrame\n",
      "\n",
      "See the caveats in the documentation: https://pandas.pydata.org/pandas-docs/stable/user_guide/indexing.html#returning-a-view-versus-a-copy\n",
      "  df.LowQualFinSF[(df.LowQualFinSF > 0)] = 0\n"
     ]
    }
   ],
   "source": [
    "df.LowQualFinSF[(df.LowQualFinSF > 0)] = 0"
   ]
  },
  {
   "cell_type": "code",
   "execution_count": 123,
   "id": "d5db0f6e",
   "metadata": {},
   "outputs": [
    {
     "name": "stderr",
     "output_type": "stream",
     "text": [
      "C:\\Users\\USER\\AppData\\Local\\Temp/ipykernel_6276/1545821782.py:1: SettingWithCopyWarning: \n",
      "A value is trying to be set on a copy of a slice from a DataFrame\n",
      "\n",
      "See the caveats in the documentation: https://pandas.pydata.org/pandas-docs/stable/user_guide/indexing.html#returning-a-view-versus-a-copy\n",
      "  df.GrLivArea[(df.GrLivArea >= 2669.75)] = 2669.75\n"
     ]
    }
   ],
   "source": [
    "df.GrLivArea[(df.GrLivArea >= 2669.75)] = 2669.75"
   ]
  },
  {
   "cell_type": "code",
   "execution_count": 130,
   "id": "19d827a9",
   "metadata": {},
   "outputs": [
    {
     "name": "stderr",
     "output_type": "stream",
     "text": [
      "C:\\Users\\USER\\AppData\\Local\\Temp/ipykernel_6276/330123213.py:1: SettingWithCopyWarning: \n",
      "A value is trying to be set on a copy of a slice from a DataFrame\n",
      "\n",
      "See the caveats in the documentation: https://pandas.pydata.org/pandas-docs/stable/user_guide/indexing.html#returning-a-view-versus-a-copy\n",
      "  df.FullBath[(df.FullBath > 3.5)] = 3.5\n"
     ]
    }
   ],
   "source": [
    "df.FullBath[(df.FullBath > 3.5)] = 3.5"
   ]
  },
  {
   "cell_type": "code",
   "execution_count": 139,
   "id": "b5ec32ca",
   "metadata": {},
   "outputs": [
    {
     "name": "stderr",
     "output_type": "stream",
     "text": [
      "C:\\Users\\USER\\AppData\\Local\\Temp/ipykernel_6276/3598121882.py:1: SettingWithCopyWarning: \n",
      "A value is trying to be set on a copy of a slice from a DataFrame\n",
      "\n",
      "See the caveats in the documentation: https://pandas.pydata.org/pandas-docs/stable/user_guide/indexing.html#returning-a-view-versus-a-copy\n",
      "  df.BedroomAbvGr[(df.BedroomAbvGr >= 4.5)] = 4.5\n"
     ]
    }
   ],
   "source": [
    "df.BedroomAbvGr[(df.BedroomAbvGr >= 4.5)] = 4.5"
   ]
  },
  {
   "cell_type": "code",
   "execution_count": 141,
   "id": "ac352743",
   "metadata": {},
   "outputs": [
    {
     "name": "stderr",
     "output_type": "stream",
     "text": [
      "C:\\Users\\USER\\AppData\\Local\\Temp/ipykernel_6276/1067153179.py:1: SettingWithCopyWarning: \n",
      "A value is trying to be set on a copy of a slice from a DataFrame\n",
      "\n",
      "See the caveats in the documentation: https://pandas.pydata.org/pandas-docs/stable/user_guide/indexing.html#returning-a-view-versus-a-copy\n",
      "  df.BedroomAbvGr[(df.BedroomAbvGr <= 0.5)] = 0.5\n"
     ]
    }
   ],
   "source": [
    "df.BedroomAbvGr[(df.BedroomAbvGr <= 0.5)] = 0.5"
   ]
  },
  {
   "cell_type": "code",
   "execution_count": 148,
   "id": "9bd5e0d0",
   "metadata": {},
   "outputs": [
    {
     "name": "stderr",
     "output_type": "stream",
     "text": [
      "C:\\Users\\USER\\AppData\\Local\\Temp/ipykernel_6276/1468046398.py:1: SettingWithCopyWarning: \n",
      "A value is trying to be set on a copy of a slice from a DataFrame\n",
      "\n",
      "See the caveats in the documentation: https://pandas.pydata.org/pandas-docs/stable/user_guide/indexing.html#returning-a-view-versus-a-copy\n",
      "  df.KitchenAbvGr[(df.KitchenAbvGr > 1) | (df.KitchenAbvGr < 1)] = 1\n"
     ]
    }
   ],
   "source": [
    "df.KitchenAbvGr[(df.KitchenAbvGr > 1) | (df.KitchenAbvGr < 1)] = 1"
   ]
  },
  {
   "cell_type": "code",
   "execution_count": 153,
   "id": "56d48086",
   "metadata": {},
   "outputs": [
    {
     "name": "stderr",
     "output_type": "stream",
     "text": [
      "C:\\Users\\USER\\AppData\\Local\\Temp/ipykernel_6276/3444644184.py:1: SettingWithCopyWarning: \n",
      "A value is trying to be set on a copy of a slice from a DataFrame\n",
      "\n",
      "See the caveats in the documentation: https://pandas.pydata.org/pandas-docs/stable/user_guide/indexing.html#returning-a-view-versus-a-copy\n",
      "  df.TotRmsAbvGrd[(df.TotRmsAbvGrd >= 10)] = 10\n"
     ]
    }
   ],
   "source": [
    "df.TotRmsAbvGrd[(df.TotRmsAbvGrd >= 10)] = 10"
   ]
  },
  {
   "cell_type": "code",
   "execution_count": 161,
   "id": "8e1621b0",
   "metadata": {},
   "outputs": [
    {
     "name": "stderr",
     "output_type": "stream",
     "text": [
      "C:\\Users\\USER\\AppData\\Local\\Temp/ipykernel_6276/2378279366.py:1: SettingWithCopyWarning: \n",
      "A value is trying to be set on a copy of a slice from a DataFrame\n",
      "\n",
      "See the caveats in the documentation: https://pandas.pydata.org/pandas-docs/stable/user_guide/indexing.html#returning-a-view-versus-a-copy\n",
      "  df.Fireplaces[(df.Fireplaces >= 2.5)] = 2.5\n"
     ]
    }
   ],
   "source": [
    "df.Fireplaces[(df.Fireplaces >= 2.5)] = 2.5"
   ]
  },
  {
   "cell_type": "code",
   "execution_count": 172,
   "id": "b9947388",
   "metadata": {},
   "outputs": [
    {
     "name": "stderr",
     "output_type": "stream",
     "text": [
      "C:\\Users\\USER\\AppData\\Local\\Temp/ipykernel_6276/3600039170.py:1: SettingWithCopyWarning: \n",
      "A value is trying to be set on a copy of a slice from a DataFrame\n",
      "\n",
      "See the caveats in the documentation: https://pandas.pydata.org/pandas-docs/stable/user_guide/indexing.html#returning-a-view-versus-a-copy\n",
      "  df.WoodDeckSF[(df.WoodDeckSF >= 420)] = 420\n"
     ]
    }
   ],
   "source": [
    "df.WoodDeckSF[(df.WoodDeckSF >= 420)] = 420"
   ]
  },
  {
   "cell_type": "code",
   "execution_count": 179,
   "id": "ae40468e",
   "metadata": {},
   "outputs": [
    {
     "name": "stderr",
     "output_type": "stream",
     "text": [
      "C:\\Users\\USER\\AppData\\Local\\Temp/ipykernel_6276/2923763091.py:1: SettingWithCopyWarning: \n",
      "A value is trying to be set on a copy of a slice from a DataFrame\n",
      "\n",
      "See the caveats in the documentation: https://pandas.pydata.org/pandas-docs/stable/user_guide/indexing.html#returning-a-view-versus-a-copy\n",
      "  df.OpenPorchSF[(df.OpenPorchSF >= 175)] = 175\n"
     ]
    }
   ],
   "source": [
    "df.OpenPorchSF[(df.OpenPorchSF >= 175)] = 175"
   ]
  },
  {
   "cell_type": "code",
   "execution_count": 188,
   "id": "09f9346a",
   "metadata": {},
   "outputs": [
    {
     "name": "stderr",
     "output_type": "stream",
     "text": [
      "C:\\Users\\USER\\AppData\\Local\\Temp/ipykernel_6276/3022415536.py:1: SettingWithCopyWarning: \n",
      "A value is trying to be set on a copy of a slice from a DataFrame\n",
      "\n",
      "See the caveats in the documentation: https://pandas.pydata.org/pandas-docs/stable/user_guide/indexing.html#returning-a-view-versus-a-copy\n",
      "  df.EnclosedPorch[(df.EnclosedPorch > 0)] = 0\n"
     ]
    }
   ],
   "source": [
    "df.EnclosedPorch[(df.EnclosedPorch > 0)] = 0"
   ]
  },
  {
   "cell_type": "code",
   "execution_count": 194,
   "id": "e615f611",
   "metadata": {},
   "outputs": [
    {
     "name": "stderr",
     "output_type": "stream",
     "text": [
      "C:\\Users\\USER\\AppData\\Local\\Temp/ipykernel_6276/3916739450.py:1: SettingWithCopyWarning: \n",
      "A value is trying to be set on a copy of a slice from a DataFrame\n",
      "\n",
      "See the caveats in the documentation: https://pandas.pydata.org/pandas-docs/stable/user_guide/indexing.html#returning-a-view-versus-a-copy\n",
      "  df.SsnPorch[(df.SsnPorch > 0)] = 0\n"
     ]
    }
   ],
   "source": [
    "df.SsnPorch[(df.SsnPorch > 0)] = 0"
   ]
  },
  {
   "cell_type": "code",
   "execution_count": 199,
   "id": "f80a0d26",
   "metadata": {},
   "outputs": [
    {
     "name": "stderr",
     "output_type": "stream",
     "text": [
      "C:\\Users\\USER\\AppData\\Local\\Temp/ipykernel_6276/3312408753.py:1: SettingWithCopyWarning: \n",
      "A value is trying to be set on a copy of a slice from a DataFrame\n",
      "\n",
      "See the caveats in the documentation: https://pandas.pydata.org/pandas-docs/stable/user_guide/indexing.html#returning-a-view-versus-a-copy\n",
      "  df.ScreenPorch[(df.ScreenPorch > 0)] = 0\n"
     ]
    }
   ],
   "source": [
    "df.ScreenPorch[(df.ScreenPorch > 0)] = 0"
   ]
  },
  {
   "cell_type": "code",
   "execution_count": 205,
   "id": "e67a594a",
   "metadata": {},
   "outputs": [
    {
     "name": "stderr",
     "output_type": "stream",
     "text": [
      "C:\\Users\\USER\\AppData\\Local\\Temp/ipykernel_6276/2067872804.py:1: SettingWithCopyWarning: \n",
      "A value is trying to be set on a copy of a slice from a DataFrame\n",
      "\n",
      "See the caveats in the documentation: https://pandas.pydata.org/pandas-docs/stable/user_guide/indexing.html#returning-a-view-versus-a-copy\n",
      "  df.PoolArea[(df.PoolArea > 0)] = 0\n"
     ]
    }
   ],
   "source": [
    "df.PoolArea[(df.PoolArea > 0)] = 0"
   ]
  },
  {
   "cell_type": "code",
   "execution_count": 210,
   "id": "97de3d34",
   "metadata": {},
   "outputs": [
    {
     "name": "stderr",
     "output_type": "stream",
     "text": [
      "C:\\Users\\USER\\AppData\\Local\\Temp/ipykernel_6276/120786236.py:1: SettingWithCopyWarning: \n",
      "A value is trying to be set on a copy of a slice from a DataFrame\n",
      "\n",
      "See the caveats in the documentation: https://pandas.pydata.org/pandas-docs/stable/user_guide/indexing.html#returning-a-view-versus-a-copy\n",
      "  df.MiscVal[(df.MiscVal > 0)] = 0\n"
     ]
    }
   ],
   "source": [
    "df.MiscVal[(df.MiscVal > 0)] = 0"
   ]
  },
  {
   "cell_type": "code",
   "execution_count": 233,
   "id": "09d35b22",
   "metadata": {},
   "outputs": [
    {
     "name": "stderr",
     "output_type": "stream",
     "text": [
      "C:\\Users\\USER\\AppData\\Local\\Temp/ipykernel_6276/2445647747.py:1: SettingWithCopyWarning: \n",
      "A value is trying to be set on a copy of a slice from a DataFrame\n",
      "\n",
      "See the caveats in the documentation: https://pandas.pydata.org/pandas-docs/stable/user_guide/indexing.html#returning-a-view-versus-a-copy\n",
      "  df.LotFrontage[(df.LotFrontage <= 33)] = 33\n"
     ]
    }
   ],
   "source": [
    "df.LotFrontage[(df.LotFrontage <= 33)] = 33"
   ]
  },
  {
   "cell_type": "code",
   "execution_count": 235,
   "id": "ee76c168",
   "metadata": {},
   "outputs": [
    {
     "name": "stderr",
     "output_type": "stream",
     "text": [
      "C:\\Users\\USER\\AppData\\Local\\Temp/ipykernel_6276/1039444811.py:1: SettingWithCopyWarning: \n",
      "A value is trying to be set on a copy of a slice from a DataFrame\n",
      "\n",
      "See the caveats in the documentation: https://pandas.pydata.org/pandas-docs/stable/user_guide/indexing.html#returning-a-view-versus-a-copy\n",
      "  df.LotFrontage[(df.LotFrontage >= 105)] = 105\n"
     ]
    }
   ],
   "source": [
    "df.LotFrontage[(df.LotFrontage >= 105)] = 105"
   ]
  },
  {
   "cell_type": "code",
   "execution_count": 242,
   "id": "60718e40",
   "metadata": {},
   "outputs": [
    {
     "name": "stderr",
     "output_type": "stream",
     "text": [
      "C:\\Users\\USER\\AppData\\Local\\Temp/ipykernel_6276/1988399025.py:1: SettingWithCopyWarning: \n",
      "A value is trying to be set on a copy of a slice from a DataFrame\n",
      "\n",
      "See the caveats in the documentation: https://pandas.pydata.org/pandas-docs/stable/user_guide/indexing.html#returning-a-view-versus-a-copy\n",
      "  df.MasVnrArea[(df.MasVnrArea > 408.75)] = 408.75\n"
     ]
    }
   ],
   "source": [
    "df.MasVnrArea[(df.MasVnrArea > 408.75)] = 408.75"
   ]
  },
  {
   "cell_type": "code",
   "execution_count": 250,
   "id": "30da38bd",
   "metadata": {},
   "outputs": [
    {
     "name": "stderr",
     "output_type": "stream",
     "text": [
      "C:\\Users\\USER\\AppData\\Local\\Temp/ipykernel_6276/371088515.py:1: SettingWithCopyWarning: \n",
      "A value is trying to be set on a copy of a slice from a DataFrame\n",
      "\n",
      "See the caveats in the documentation: https://pandas.pydata.org/pandas-docs/stable/user_guide/indexing.html#returning-a-view-versus-a-copy\n",
      "  df.BsmtFinSF1[(df.BsmtFinSF1 >= 1832.5)] = 1832.5\n"
     ]
    }
   ],
   "source": [
    "df.BsmtFinSF1[(df.BsmtFinSF1 >= 1832.5)] = 1832.5"
   ]
  },
  {
   "cell_type": "code",
   "execution_count": 258,
   "id": "617d6e65",
   "metadata": {},
   "outputs": [
    {
     "name": "stderr",
     "output_type": "stream",
     "text": [
      "C:\\Users\\USER\\AppData\\Local\\Temp/ipykernel_6276/291818227.py:1: SettingWithCopyWarning: \n",
      "A value is trying to be set on a copy of a slice from a DataFrame\n",
      "\n",
      "See the caveats in the documentation: https://pandas.pydata.org/pandas-docs/stable/user_guide/indexing.html#returning-a-view-versus-a-copy\n",
      "  df.BsmtFinSF2[(df.BsmtFinSF2 > 0)] = 0\n"
     ]
    }
   ],
   "source": [
    "df.BsmtFinSF2[(df.BsmtFinSF2 > 0)] = 0"
   ]
  },
  {
   "cell_type": "code",
   "execution_count": 263,
   "id": "5006f3bc",
   "metadata": {},
   "outputs": [
    {
     "name": "stderr",
     "output_type": "stream",
     "text": [
      "C:\\Users\\USER\\AppData\\Local\\Temp/ipykernel_6276/4236613430.py:1: SettingWithCopyWarning: \n",
      "A value is trying to be set on a copy of a slice from a DataFrame\n",
      "\n",
      "See the caveats in the documentation: https://pandas.pydata.org/pandas-docs/stable/user_guide/indexing.html#returning-a-view-versus-a-copy\n",
      "  df.BsmtUnfSF[(df.BsmtUnfSF >= 1682.5)] = 1682.5\n"
     ]
    }
   ],
   "source": [
    "df.BsmtUnfSF[(df.BsmtUnfSF >= 1682.5)] = 1682.5"
   ]
  },
  {
   "cell_type": "code",
   "execution_count": 268,
   "id": "554b5b73",
   "metadata": {},
   "outputs": [
    {
     "name": "stderr",
     "output_type": "stream",
     "text": [
      "C:\\Users\\USER\\AppData\\Local\\Temp/ipykernel_6276/1224662563.py:1: SettingWithCopyWarning: \n",
      "A value is trying to be set on a copy of a slice from a DataFrame\n",
      "\n",
      "See the caveats in the documentation: https://pandas.pydata.org/pandas-docs/stable/user_guide/indexing.html#returning-a-view-versus-a-copy\n",
      "  df.TotalBsmtSF[(df.TotalBsmtSF <= 29.5)] = 29.5\n"
     ]
    }
   ],
   "source": [
    "df.TotalBsmtSF[(df.TotalBsmtSF <= 29.5)] = 29.5"
   ]
  },
  {
   "cell_type": "code",
   "execution_count": 270,
   "id": "61da9ac0",
   "metadata": {},
   "outputs": [
    {
     "name": "stderr",
     "output_type": "stream",
     "text": [
      "C:\\Users\\USER\\AppData\\Local\\Temp/ipykernel_6276/2061970555.py:1: SettingWithCopyWarning: \n",
      "A value is trying to be set on a copy of a slice from a DataFrame\n",
      "\n",
      "See the caveats in the documentation: https://pandas.pydata.org/pandas-docs/stable/user_guide/indexing.html#returning-a-view-versus-a-copy\n",
      "  df.TotalBsmtSF[(df.TotalBsmtSF >= 2065.5)] = 2065.5\n"
     ]
    }
   ],
   "source": [
    "df.TotalBsmtSF[(df.TotalBsmtSF >= 2065.5)] = 2065.5"
   ]
  },
  {
   "cell_type": "code",
   "execution_count": 275,
   "id": "9b600051",
   "metadata": {},
   "outputs": [
    {
     "name": "stderr",
     "output_type": "stream",
     "text": [
      "C:\\Users\\USER\\AppData\\Local\\Temp/ipykernel_6276/201086649.py:1: SettingWithCopyWarning: \n",
      "A value is trying to be set on a copy of a slice from a DataFrame\n",
      "\n",
      "See the caveats in the documentation: https://pandas.pydata.org/pandas-docs/stable/user_guide/indexing.html#returning-a-view-versus-a-copy\n",
      "  df.BsmtFullBath[(df.BsmtFullBath >= 2.5)] = 2.5\n"
     ]
    }
   ],
   "source": [
    "df.BsmtFullBath[(df.BsmtFullBath >= 2.5)] = 2.5"
   ]
  },
  {
   "cell_type": "code",
   "execution_count": 280,
   "id": "1d2ceaca",
   "metadata": {},
   "outputs": [
    {
     "name": "stderr",
     "output_type": "stream",
     "text": [
      "C:\\Users\\USER\\AppData\\Local\\Temp/ipykernel_6276/1405708008.py:1: SettingWithCopyWarning: \n",
      "A value is trying to be set on a copy of a slice from a DataFrame\n",
      "\n",
      "See the caveats in the documentation: https://pandas.pydata.org/pandas-docs/stable/user_guide/indexing.html#returning-a-view-versus-a-copy\n",
      "  df.BsmtHalfBath[(df.BsmtHalfBath > 0)] = 0\n"
     ]
    }
   ],
   "source": [
    "df.BsmtHalfBath[(df.BsmtHalfBath > 0)] = 0"
   ]
  },
  {
   "cell_type": "code",
   "execution_count": 287,
   "id": "6dbfbd2b",
   "metadata": {},
   "outputs": [
    {
     "name": "stderr",
     "output_type": "stream",
     "text": [
      "C:\\Users\\USER\\AppData\\Local\\Temp/ipykernel_6276/2720191.py:1: SettingWithCopyWarning: \n",
      "A value is trying to be set on a copy of a slice from a DataFrame\n",
      "\n",
      "See the caveats in the documentation: https://pandas.pydata.org/pandas-docs/stable/user_guide/indexing.html#returning-a-view-versus-a-copy\n",
      "  df.GarageYrBlt[(df.GarageYrBlt <= 1891)] = 1891\n"
     ]
    }
   ],
   "source": [
    "df.GarageYrBlt[(df.GarageYrBlt <= 1891)] = 1891"
   ]
  },
  {
   "cell_type": "code",
   "execution_count": 289,
   "id": "0346d65f",
   "metadata": {},
   "outputs": [
    {
     "name": "stderr",
     "output_type": "stream",
     "text": [
      "C:\\Users\\USER\\AppData\\Local\\Temp/ipykernel_6276/3534068209.py:1: SettingWithCopyWarning: \n",
      "A value is trying to be set on a copy of a slice from a DataFrame\n",
      "\n",
      "See the caveats in the documentation: https://pandas.pydata.org/pandas-docs/stable/user_guide/indexing.html#returning-a-view-versus-a-copy\n",
      "  df.GarageYrBlt[(df.GarageYrBlt >= 2067)] = 2067\n"
     ]
    }
   ],
   "source": [
    "df.GarageYrBlt[(df.GarageYrBlt >= 2067)] = 2067"
   ]
  },
  {
   "cell_type": "code",
   "execution_count": 296,
   "id": "81a7c547",
   "metadata": {},
   "outputs": [
    {
     "name": "stderr",
     "output_type": "stream",
     "text": [
      "C:\\Users\\USER\\AppData\\Local\\Temp/ipykernel_6276/1164203768.py:1: SettingWithCopyWarning: \n",
      "A value is trying to be set on a copy of a slice from a DataFrame\n",
      "\n",
      "See the caveats in the documentation: https://pandas.pydata.org/pandas-docs/stable/user_guide/indexing.html#returning-a-view-versus-a-copy\n",
      "  df.GarageCars[(df.GarageCars >= 3.5)] = 3.5\n"
     ]
    }
   ],
   "source": [
    "df.GarageCars[(df.GarageCars >= 3.5)] = 3.5"
   ]
  },
  {
   "cell_type": "code",
   "execution_count": 302,
   "id": "0e3f2e71",
   "metadata": {},
   "outputs": [
    {
     "name": "stderr",
     "output_type": "stream",
     "text": [
      "C:\\Users\\USER\\AppData\\Local\\Temp/ipykernel_6276/3254987466.py:1: SettingWithCopyWarning: \n",
      "A value is trying to be set on a copy of a slice from a DataFrame\n",
      "\n",
      "See the caveats in the documentation: https://pandas.pydata.org/pandas-docs/stable/user_guide/indexing.html#returning-a-view-versus-a-copy\n",
      "  df.GarageArea[(df.GarageArea >= 960)] = 960\n"
     ]
    }
   ],
   "source": [
    "df.GarageArea[(df.GarageArea >= 960)] = 960"
   ]
  },
  {
   "cell_type": "markdown",
   "id": "63318ad9",
   "metadata": {},
   "source": [
    "## Handling Categorical missing values Using Sklearn.impute.SimpleImputer"
   ]
  },
  {
   "cell_type": "code",
   "execution_count": 223,
   "id": "84b2ab91",
   "metadata": {},
   "outputs": [],
   "source": [
    "from sklearn.impute import SimpleImputer"
   ]
  },
  {
   "cell_type": "code",
   "execution_count": 224,
   "id": "8faf3801",
   "metadata": {},
   "outputs": [],
   "source": [
    "imp = SimpleImputer (missing_values = np.NaN, strategy = \"most_frequent\", fill_value = \"constant\" )"
   ]
  },
  {
   "cell_type": "code",
   "execution_count": 225,
   "id": "ef936965",
   "metadata": {},
   "outputs": [],
   "source": [
    "df[\"MSZoning\"] = imp.fit_transform (df[[\"MSZoning\"]])\n",
    "df[\"Utilities\"] = imp.transform (df[[\"Utilities\"]])\n",
    "df[\"Exterior1st\"] = imp.transform (df[[\"Exterior1st\"]])\n",
    "df[\"Exterior2nd\"] = imp.transform (df[[\"Exterior2nd\"]])\n",
    "df[\"MasVnrType\"] = imp.transform (df[[\"MasVnrType\"]])\n",
    "df[\"BsmtQual\"] = imp.transform (df[[\"BsmtQual\"]])\n",
    "df[\"BsmtCond\"] = imp.transform (df[[\"BsmtCond\"]])\n",
    "df[\"BsmtExposure\"] = imp.transform (df[[\"BsmtExposure\"]])\n",
    "df[\"BsmtFinType1\"] = imp.transform (df[[\"BsmtFinType1\"]])\n",
    "df[\"BsmtFinType2\"] = imp.transform (df[[\"BsmtFinType2\"]])\n",
    "df[\"KitchenQual\"] = imp.transform (df[[\"KitchenQual\"]])\n",
    "df[\"Functional\"] = imp.transform (df[[\"Functional\"]])\n",
    "df[\"FireplaceQu\"] = imp.transform (df[[\"FireplaceQu\"]])\n",
    "df[\"GarageType\"] = imp.transform (df[[\"GarageType\"]])\n",
    "df[\"GarageFinish\"] = imp.transform (df[[\"GarageFinish\"]])\n",
    "df[\"GarageQual\"] = imp.transform (df[[\"GarageCond\"]])\n",
    "df[\"SaleType\"] = imp.transform (df[[\"SaleType\"]])\n",
    "df[\"GarageCond\"] = imp.transform (df[[\"GarageCond\"]])\n",
    "df[\"Electrical\"] = imp.transform (df[[\"Electrical\"]])"
   ]
  },
  {
   "cell_type": "markdown",
   "id": "1a35d36c",
   "metadata": {},
   "source": [
    "## Handling integer missing values using sklearn.impute.SimpleImputer"
   ]
  },
  {
   "cell_type": "code",
   "execution_count": 226,
   "id": "47728dc1",
   "metadata": {},
   "outputs": [],
   "source": [
    "imp = SimpleImputer (missing_values = np.NaN, strategy = \"mean\", fill_value = \"constant\" )"
   ]
  },
  {
   "cell_type": "code",
   "execution_count": 290,
   "id": "5765acf7",
   "metadata": {},
   "outputs": [],
   "source": [
    "df[\"LotFrontage\"] = imp.fit_transform (df[[\"LotFrontage\"]])\n",
    "df[\"MasVnrArea\"] = imp.transform (df[[\"MasVnrArea\"]])\n",
    "df[\"BsmtFinSF1\"] = imp.transform (df[[\"BsmtFinSF1\"]])\n",
    "df[\"BsmtFinSF2\"] = imp.transform (df[[\"BsmtFinSF2\"]])\n",
    "df[\"BsmtUnfSF\"] =imp.transform (df[[\"BsmtUnfSF\"]])\n",
    "df[\"TotalBsmtSF\"] = imp.transform (df[[\"TotalBsmtSF\"]])\n",
    "df[\"BsmtFullBath\"] =imp.transform (df[[\"BsmtFullBath\"]])\n",
    "df[\"BsmtHalfBath\"] = imp.transform (df[[\"BsmtHalfBath\"]])\n",
    "df[\"GarageYrBlt\"] = imp.transform (df[[\"GarageYrBlt\"]])\n",
    "df[\"GarageCars\"] = imp.transform (df[[\"GarageCars\"]])\n",
    "df[\"GarageArea\"] = imp.transform (df[[\"GarageArea\"]])\n"
   ]
  },
  {
   "cell_type": "markdown",
   "id": "35c68120",
   "metadata": {},
   "source": [
    "## Handling Categorical Data Using pandas.get_dummies"
   ]
  },
  {
   "cell_type": "code",
   "execution_count": 304,
   "id": "3ff390f0",
   "metadata": {},
   "outputs": [],
   "source": [
    "df = pd.get_dummies (df, columns = [\"MSZoning\", \"Street\", \"LotShape\", \"LandContour\", \"Utilities\", \"LotConfig\", \"LandSlope\", \n",
    "                                    \"Neighborhood\", \"Condition1\", \"Condition2\", \"BldgType\", \"HouseStyle\", \"RoofStyle\",\n",
    "                                    \"Exterior1st\", \"Exterior2nd\", \"ExterQual\", \"ExterCond\", \"Foundation\", \"Heating\",\n",
    "                                    \"HeatingQC\", \"CentralAir\", \"KitchenQual\", \"Functional\", \"PavedDrive\", \"SaleType\",\n",
    "                                    \"SaleCondition\", \"MasVnrType\", \"BsmtQual\", \"BsmtCond\", \"BsmtExposure\", \"BsmtFinType1\",\n",
    "                                    \"BsmtFinType2\", \"Electrical\", \"FireplaceQu\", \"GarageType\", \"GarageFinish\", \"GarageQual\",\n",
    "                                    \"GarageCond\", \"RoofMatl\"])"
   ]
  },
  {
   "cell_type": "markdown",
   "id": "f00bfdb3",
   "metadata": {},
   "source": [
    "## Deleting unwanted columns"
   ]
  },
  {
   "cell_type": "code",
   "execution_count": 308,
   "id": "b28ce2c0",
   "metadata": {},
   "outputs": [],
   "source": [
    "del df[\"Alley\"]\n",
    "del df[\"PoolQC\"]\n",
    "del df[\"Fence\"]\n",
    "del df[\"MiscFeature\"]"
   ]
  },
  {
   "cell_type": "markdown",
   "id": "257dcb34",
   "metadata": {},
   "source": [
    "## Splitting Dataset"
   ]
  },
  {
   "cell_type": "code",
   "execution_count": 337,
   "id": "264ba557",
   "metadata": {},
   "outputs": [],
   "source": [
    "df_Train = df.iloc[0: 1460, :]"
   ]
  },
  {
   "cell_type": "code",
   "execution_count": 338,
   "id": "93c13c09",
   "metadata": {},
   "outputs": [],
   "source": [
    "df_Test = df.iloc[1460: , :]"
   ]
  },
  {
   "cell_type": "code",
   "execution_count": 345,
   "id": "fd48f80d",
   "metadata": {},
   "outputs": [],
   "source": [
    "del df_Test[\"SalePrice\"]"
   ]
  },
  {
   "cell_type": "markdown",
   "id": "e7d78cbf",
   "metadata": {},
   "source": [
    "## Splitting and Standardizing Dataset"
   ]
  },
  {
   "cell_type": "code",
   "execution_count": 368,
   "id": "14c29276",
   "metadata": {},
   "outputs": [],
   "source": [
    "x = df_Train.drop (\"SalePrice\", axis = 1)\n",
    "y = df_Train[\"SalePrice\"]"
   ]
  },
  {
   "cell_type": "code",
   "execution_count": 369,
   "id": "7fdbd859",
   "metadata": {},
   "outputs": [],
   "source": [
    "from sklearn.model_selection import train_test_split\n",
    "x_train, x_test, y_train, y_test = train_test_split (x, y, train_size = 0.8, random_state = 42)"
   ]
  },
  {
   "cell_type": "code",
   "execution_count": 370,
   "id": "358a327f",
   "metadata": {},
   "outputs": [],
   "source": [
    "from sklearn.preprocessing import StandardScaler\n",
    "scaler = StandardScaler ()\n",
    "x_train_s = scaler.fit_transform (x_train)\n",
    "x_test_s = scaler.transform (x_test)"
   ]
  },
  {
   "cell_type": "markdown",
   "id": "0e024d03",
   "metadata": {},
   "source": [
    "# Modeling\n",
    "\n",
    "## LinearRegression model"
   ]
  },
  {
   "cell_type": "code",
   "execution_count": 371,
   "id": "3071d5f5",
   "metadata": {},
   "outputs": [
    {
     "data": {
      "text/plain": [
       "LinearRegression()"
      ]
     },
     "execution_count": 371,
     "metadata": {},
     "output_type": "execute_result"
    }
   ],
   "source": [
    "from sklearn.linear_model import LinearRegression\n",
    "model = LinearRegression ()\n",
    "model.fit (x_train_s, y_train)"
   ]
  },
  {
   "cell_type": "code",
   "execution_count": 372,
   "id": "85d7d467",
   "metadata": {},
   "outputs": [
    {
     "data": {
      "text/plain": [
       "-4.836706020650267e+22"
      ]
     },
     "execution_count": 372,
     "metadata": {},
     "output_type": "execute_result"
    }
   ],
   "source": [
    "from sklearn.metrics import r2_score\n",
    "r2_score (y_test, model.predict (x_test_s))"
   ]
  },
  {
   "cell_type": "markdown",
   "id": "463df07a",
   "metadata": {},
   "source": [
    "## Ridge model"
   ]
  },
  {
   "cell_type": "code",
   "execution_count": 351,
   "id": "02978f3a",
   "metadata": {},
   "outputs": [
    {
     "data": {
      "text/plain": [
       "GridSearchCV(cv=5, estimator=Ridge(), n_jobs=-1,\n",
       "             param_grid={'alpha': array([1.00000000e-01, 1.00192098e-01, 1.00384566e-01, ...,\n",
       "       9.96169075e+03, 9.98082700e+03, 1.00000000e+04])},\n",
       "             scoring='r2')"
      ]
     },
     "execution_count": 351,
     "metadata": {},
     "output_type": "execute_result"
    }
   ],
   "source": [
    "from sklearn.linear_model import Ridge\n",
    "from sklearn.model_selection import GridSearchCV\n",
    "model = Ridge ()\n",
    "alpha = np.logspace (-1, 4, 6000)\n",
    "params = {\"alpha\": alpha}\n",
    "grid = GridSearchCV (model, params, n_jobs = -1, cv = 5, scoring = \"r2\")\n",
    "grid.fit (x_train_s, y_train)"
   ]
  },
  {
   "cell_type": "code",
   "execution_count": 355,
   "id": "00ce6859",
   "metadata": {},
   "outputs": [
    {
     "name": "stdout",
     "output_type": "stream",
     "text": [
      "best parameters are: {'alpha': 360.1024457348948} \n",
      "Accuracy is 87.68 %\n"
     ]
    }
   ],
   "source": [
    "print (\"best parameters are: {} \".format (grid.best_params_))\n",
    "best_ridge = grid.best_estimator_\n",
    "y_pred = best_ridge.predict (x_test_s)\n",
    "score = r2_score (y_test, y_pred) * 100\n",
    "print (\"Accuracy is {} %\".format (np.round (score, 2)))"
   ]
  },
  {
   "cell_type": "markdown",
   "id": "6dc7d5d2",
   "metadata": {},
   "source": [
    "### Saving ridge model using Joblib"
   ]
  },
  {
   "cell_type": "code",
   "execution_count": 356,
   "id": "396e4bfe",
   "metadata": {},
   "outputs": [],
   "source": [
    "import joblib as jlb"
   ]
  },
  {
   "cell_type": "code",
   "execution_count": 357,
   "id": "295d543b",
   "metadata": {},
   "outputs": [
    {
     "data": {
      "text/plain": [
       "['Best Ridge.sav']"
      ]
     },
     "execution_count": 357,
     "metadata": {},
     "output_type": "execute_result"
    }
   ],
   "source": [
    "jlb.dump (best_ridge, \"Best Ridge.sav\")"
   ]
  },
  {
   "cell_type": "markdown",
   "id": "09f5f53a",
   "metadata": {},
   "source": [
    "### Loading saved Ridge model"
   ]
  },
  {
   "cell_type": "code",
   "execution_count": 359,
   "id": "89897d1a",
   "metadata": {},
   "outputs": [
    {
     "data": {
      "text/plain": [
       "0.8767991767054778"
      ]
     },
     "execution_count": 359,
     "metadata": {},
     "output_type": "execute_result"
    }
   ],
   "source": [
    "best_model = jlb.load (\"Best Ridge.sav\")\n",
    "r2_score (y_test, best_model.predict (x_test_s))"
   ]
  },
  {
   "cell_type": "markdown",
   "id": "1824bf6f",
   "metadata": {},
   "source": [
    "## LogisticRegression model"
   ]
  },
  {
   "cell_type": "code",
   "execution_count": 361,
   "id": "8e208a19",
   "metadata": {},
   "outputs": [
    {
     "name": "stderr",
     "output_type": "stream",
     "text": [
      "C:\\Users\\USER\\anaconda3\\lib\\site-packages\\sklearn\\linear_model\\_logistic.py:763: ConvergenceWarning: lbfgs failed to converge (status=1):\n",
      "STOP: TOTAL NO. of ITERATIONS REACHED LIMIT.\n",
      "\n",
      "Increase the number of iterations (max_iter) or scale the data as shown in:\n",
      "    https://scikit-learn.org/stable/modules/preprocessing.html\n",
      "Please also refer to the documentation for alternative solver options:\n",
      "    https://scikit-learn.org/stable/modules/linear_model.html#logistic-regression\n",
      "  n_iter_i = _check_optimize_result(\n"
     ]
    },
    {
     "data": {
      "text/plain": [
       "LogisticRegression()"
      ]
     },
     "execution_count": 361,
     "metadata": {},
     "output_type": "execute_result"
    }
   ],
   "source": [
    "from sklearn.linear_model import LogisticRegression\n",
    "model = LogisticRegression ()\n",
    "model.fit (x_train_s, y_train)"
   ]
  },
  {
   "cell_type": "code",
   "execution_count": 362,
   "id": "36490755",
   "metadata": {},
   "outputs": [
    {
     "data": {
      "text/plain": [
       "0.545526957506502"
      ]
     },
     "execution_count": 362,
     "metadata": {},
     "output_type": "execute_result"
    }
   ],
   "source": [
    "r2_score (y_test, model.predict (x_test_s))"
   ]
  },
  {
   "cell_type": "markdown",
   "id": "7281a76d",
   "metadata": {},
   "source": [
    "### Saving model using joblib"
   ]
  },
  {
   "cell_type": "code",
   "execution_count": 363,
   "id": "29898614",
   "metadata": {},
   "outputs": [
    {
     "data": {
      "text/plain": [
       "['LogisticRegression.sav']"
      ]
     },
     "execution_count": 363,
     "metadata": {},
     "output_type": "execute_result"
    }
   ],
   "source": [
    "jlb.dump (model, \"LogisticRegression.sav\")"
   ]
  },
  {
   "cell_type": "markdown",
   "id": "b218dcd5",
   "metadata": {},
   "source": [
    "# PREDICTIONS ON TEST DATASET"
   ]
  },
  {
   "cell_type": "markdown",
   "id": "e5fd475d",
   "metadata": {},
   "source": [
    "## splitting and standardizing dataset"
   ]
  },
  {
   "cell_type": "code",
   "execution_count": 374,
   "id": "e398e76e",
   "metadata": {},
   "outputs": [],
   "source": [
    "x_train = df_Train.drop (\"SalePrice\", axis = 1)\n",
    "y_train = df_Train[\"SalePrice\"]\n",
    "x_test = df_Test"
   ]
  },
  {
   "cell_type": "code",
   "execution_count": 375,
   "id": "163e1fe1",
   "metadata": {},
   "outputs": [],
   "source": [
    "from sklearn.preprocessing import StandardScaler\n",
    "scaler = StandardScaler ()\n",
    "x_train_s = scaler.fit_transform (x_train)\n",
    "x_test_s = scaler.transform (x_test)"
   ]
  },
  {
   "cell_type": "markdown",
   "id": "9aa72672",
   "metadata": {},
   "source": [
    "## Predictions using Ridge model"
   ]
  },
  {
   "cell_type": "code",
   "execution_count": 376,
   "id": "176a13c5",
   "metadata": {},
   "outputs": [
    {
     "data": {
      "text/plain": [
       "GridSearchCV(cv=5, estimator=Ridge(), n_jobs=-1,\n",
       "             param_grid={'alpha': array([1.00000000e-01, 1.00192098e-01, 1.00384566e-01, ...,\n",
       "       9.96169075e+03, 9.98082700e+03, 1.00000000e+04])},\n",
       "             scoring='r2')"
      ]
     },
     "execution_count": 376,
     "metadata": {},
     "output_type": "execute_result"
    }
   ],
   "source": [
    "model = Ridge ()\n",
    "alpha = np.logspace (-1, 4, 6000)\n",
    "params = {\"alpha\": alpha}\n",
    "grid = GridSearchCV (model, params, n_jobs = -1, cv = 5, scoring = \"r2\")\n",
    "grid.fit (x_train_s, y_train)"
   ]
  },
  {
   "cell_type": "code",
   "execution_count": 378,
   "id": "98d73634",
   "metadata": {},
   "outputs": [
    {
     "name": "stdout",
     "output_type": "stream",
     "text": [
      "best parameters are: {'alpha': 360.1024457348948} \n"
     ]
    }
   ],
   "source": [
    "print (\"best parameters are: {} \".format (grid.best_params_))\n",
    "best_ridge = grid.best_estimator_"
   ]
  },
  {
   "cell_type": "markdown",
   "id": "852deb8c",
   "metadata": {},
   "source": [
    "### Saving our fully trained model using joblib"
   ]
  },
  {
   "cell_type": "code",
   "execution_count": 379,
   "id": "04ed54fd",
   "metadata": {},
   "outputs": [
    {
     "data": {
      "text/plain": [
       "['Best Ridge.sav']"
      ]
     },
     "execution_count": 379,
     "metadata": {},
     "output_type": "execute_result"
    }
   ],
   "source": [
    "jlb.dump (best_ridge, \"Best Ridge.sav\")"
   ]
  },
  {
   "cell_type": "markdown",
   "id": "4ee16562",
   "metadata": {},
   "source": [
    "### Loading our fully trained model to make predictions"
   ]
  },
  {
   "cell_type": "code",
   "execution_count": 385,
   "id": "75efdeb1",
   "metadata": {},
   "outputs": [],
   "source": [
    "best_model = jlb.load (\"Best Ridge.sav\")\n",
    "y_pred = best_model.predict (x_test_s)"
   ]
  },
  {
   "cell_type": "code",
   "execution_count": 386,
   "id": "dd96ef29",
   "metadata": {
    "scrolled": true
   },
   "outputs": [
    {
     "name": "stdout",
     "output_type": "stream",
     "text": [
      "114074.18196127815\n",
      "165380.57702687575\n",
      "188826.50140921373\n",
      "197925.08447562627\n",
      "198082.3432956254\n",
      "169171.8639094889\n",
      "176898.92608072274\n",
      "160598.43609357908\n",
      "197981.65967265336\n",
      "113389.10019868176\n",
      "171629.57678641938\n",
      "95954.70890932193\n",
      "93922.7260407737\n",
      "144240.89571499123\n",
      "94574.80298356764\n",
      "373722.75168557715\n",
      "252047.33190820072\n",
      "302876.62871079537\n",
      "310845.4684518773\n",
      "438416.36383173306\n",
      "321218.2214322642\n",
      "208425.29634258128\n",
      "181605.34838337035\n",
      "163968.9668533915\n",
      "187299.1177407311\n",
      "195415.63891081914\n",
      "344714.12901433965\n",
      "222897.24990017858\n",
      "202945.4196140974\n",
      "249318.46367408716\n",
      "199261.6923547607\n",
      "91964.34642369223\n",
      "201640.89687497076\n",
      "319617.39921517135\n",
      "295678.65453650744\n",
      "245339.7995986499\n",
      "169072.0961545435\n",
      "173572.45374932824\n",
      "170767.08772325492\n",
      "158483.85437443038\n",
      "177924.05553652457\n",
      "144606.06758222304\n",
      "282050.0228778773\n",
      "234479.71314228477\n",
      "226541.38902432006\n",
      "195421.87796261092\n",
      "246175.14011537918\n",
      "208754.2873823857\n",
      "154988.74294343818\n",
      "151633.8952207118\n",
      "157232.11441873707\n",
      "175240.33748829146\n",
      "137451.30490923542\n",
      "183187.50037773346\n",
      "200813.59784479963\n",
      "166722.47820911513\n",
      "179793.45787711203\n",
      "126394.56953234831\n",
      "215273.3853979373\n",
      "128791.72625110956\n",
      "135527.81334927643\n",
      "181165.80990367537\n",
      "103748.18365457887\n",
      "111115.16303903762\n",
      "118533.91302496914\n",
      "102259.09686195457\n",
      "100752.14979398497\n",
      "126376.82884152717\n",
      "154606.11234458152\n",
      "195221.28678345756\n",
      "120621.1185587372\n",
      "92064.88900674578\n",
      "150852.570659002\n",
      "121871.05957184339\n",
      "155570.4889540962\n",
      "102990.77078054399\n",
      "60747.26847220845\n",
      "161945.78531227278\n",
      "193917.18167086478\n",
      "122723.33497420629\n",
      "140926.46059842012\n",
      "147875.88767753428\n",
      "181836.54309848376\n",
      "74814.65786775413\n",
      "113685.62286694304\n",
      "147920.17759090677\n",
      "129245.18221107061\n",
      "134938.32514533005\n",
      "121274.97136572\n",
      "146431.91989075154\n",
      "104679.39577519365\n",
      "148945.2661564654\n",
      "151283.57355725448\n",
      "114889.83137280533\n",
      "174285.5240106092\n",
      "77097.42183612646\n",
      "114320.04537321885\n",
      "103321.22739697061\n",
      "83146.74327905213\n",
      "133410.30587763526\n",
      "141792.58346298907\n",
      "131849.42535759517\n",
      "124145.23927983451\n",
      "154156.0845042401\n",
      "163400.4201762825\n",
      "238932.92511343156\n",
      "67604.8273138989\n",
      "243921.00396369072\n",
      "150443.5292544756\n",
      "138476.00168392377\n",
      "108035.87002041163\n",
      "143445.92067608522\n",
      "272472.46506110486\n",
      "136769.75795232793\n",
      "229200.76603967775\n",
      "236900.65807526466\n",
      "180011.24023015818\n",
      "155418.15344546537\n",
      "141440.02440619227\n",
      "189903.85972204944\n",
      "154552.4359104018\n",
      "124302.63095631148\n",
      "281822.1466670232\n",
      "219016.35818149164\n",
      "137891.87720827333\n",
      "63292.67630486921\n",
      "106425.15319711539\n",
      "158774.41306561115\n",
      "93462.8952272402\n",
      "120929.70630467986\n",
      "89226.96841894968\n",
      "121868.18873577825\n",
      "119240.82057016625\n",
      "128325.370261089\n",
      "116436.16642445461\n",
      "224526.00898852994\n",
      "207906.53286480406\n",
      "205259.17703806693\n",
      "184527.1874680915\n",
      "171670.32330620816\n",
      "52976.24968804249\n",
      "123121.75438046193\n",
      "69176.35654883164\n",
      "277030.67792802554\n",
      "228944.68199591088\n",
      "156175.50741501866\n",
      "165330.48151372297\n",
      "211648.44566684964\n",
      "184801.49560489325\n",
      "155526.69388468435\n",
      "136839.95196227106\n",
      "187121.34110486234\n",
      "167024.6046147328\n",
      "132565.8350628746\n",
      "92634.13577887615\n",
      "69903.50840520229\n",
      "82433.94893195927\n",
      "121163.22024278289\n",
      "139966.0411279414\n",
      "164900.12936055454\n",
      "131467.18960140634\n",
      "150864.14324340236\n",
      "264732.19082344073\n",
      "219332.76653865393\n",
      "113656.93457993845\n",
      "177240.46008843055\n",
      "192517.36564043598\n",
      "273526.2831594624\n",
      "171882.53013013382\n",
      "332421.3649415796\n",
      "234662.9256608773\n",
      "241426.37909372238\n",
      "173824.74200512064\n",
      "186720.3400374769\n",
      "174527.9086057617\n",
      "146326.08427517884\n",
      "187803.38997014757\n",
      "182836.6897646191\n",
      "183077.79035163752\n",
      "234972.2280213065\n",
      "182260.38585409932\n",
      "262623.4731061081\n",
      "211853.58337521838\n",
      "233660.07155861985\n",
      "194641.8861416815\n",
      "164119.6683230958\n",
      "155694.50057856692\n",
      "124456.10610066901\n",
      "130990.22622781899\n",
      "113397.19073579343\n",
      "113485.96816134967\n",
      "95175.03498056075\n",
      "96809.64083623422\n",
      "141886.41304987957\n",
      "118350.18245396527\n",
      "145069.35214055388\n",
      "151970.75290594445\n",
      "154207.5757439885\n",
      "110446.83743946122\n",
      "162281.68441569968\n",
      "419679.24414996034\n",
      "363269.8641311426\n",
      "380109.2669153875\n",
      "466977.3371688146\n",
      "329177.86118608207\n",
      "329305.3554359266\n",
      "371472.045515427\n",
      "358747.32978687587\n",
      "312656.32088460965\n",
      "361569.06470289145\n",
      "271491.6198041035\n",
      "379228.53755568614\n",
      "287485.2816931095\n",
      "238837.27947670352\n",
      "203999.302813004\n",
      "205492.53180649097\n",
      "220429.95625345182\n",
      "451865.5953468119\n",
      "379756.1992761948\n",
      "339821.7626438326\n",
      "279832.69330005255\n",
      "325583.01235221815\n",
      "187816.72182500229\n",
      "173486.55821768436\n",
      "176351.0174628243\n",
      "166416.5389421088\n",
      "164372.1427596812\n",
      "192000.14871161277\n",
      "192717.23709106076\n",
      "198650.54211610448\n",
      "188086.50654097786\n",
      "257407.36491444148\n",
      "170520.2145952221\n",
      "181933.28003088356\n",
      "158570.6274626244\n",
      "263658.5754280365\n",
      "164198.70305010377\n",
      "342918.37870351237\n",
      "319687.87748227\n",
      "276334.0805301254\n",
      "285154.6802822176\n",
      "226437.80725917022\n",
      "223721.99001538346\n",
      "265509.5832082536\n",
      "252976.6675447581\n",
      "274081.38304251264\n",
      "227435.61589458893\n",
      "203718.90455154647\n",
      "252396.86910495974\n",
      "219758.6753847768\n",
      "275556.4093877069\n",
      "253920.56990193145\n",
      "280822.94327308174\n",
      "223985.48859029752\n",
      "205605.40144089577\n",
      "181066.44921611485\n",
      "170167.15737998602\n",
      "137165.45959930864\n",
      "225821.87445045082\n",
      "235472.50822221144\n",
      "152818.859325533\n",
      "115097.78707747505\n",
      "152964.85827443766\n",
      "207692.92907603693\n",
      "235992.19500385298\n",
      "179667.956948752\n",
      "170640.05818673852\n",
      "159682.85385476507\n",
      "173728.51287639947\n",
      "159421.53419574702\n",
      "111737.98876930436\n",
      "131805.11448462144\n",
      "111781.12697362121\n",
      "116468.76565481882\n",
      "106105.72836913074\n",
      "92108.71900137368\n",
      "277105.4496057627\n",
      "279837.81950902526\n",
      "235668.34812409015\n",
      "222478.82889296307\n",
      "195371.98392819348\n",
      "171629.0765885476\n",
      "174784.62839266247\n",
      "347453.71616326505\n",
      "225501.7618267016\n",
      "183695.74227739006\n",
      "219608.45746045955\n",
      "205966.8984941983\n",
      "143972.7016807399\n",
      "126083.75391946174\n",
      "234487.90063188935\n",
      "109499.81965485895\n",
      "155813.00400324466\n",
      "189781.27242166476\n",
      "181743.4854362693\n",
      "123391.84475381096\n",
      "116977.84091810705\n",
      "147770.0209114267\n",
      "169302.32092477143\n",
      "160113.5116598842\n",
      "162649.53970859118\n",
      "178365.13630193355\n",
      "198102.77851835062\n",
      "113435.64611030207\n",
      "165738.84032795997\n",
      "191093.147335033\n",
      "215344.44815718217\n",
      "139093.2883624365\n",
      "163655.03678194736\n",
      "155393.79086475982\n",
      "127825.29737087197\n",
      "133968.9659001505\n",
      "114572.3697171547\n",
      "153441.49856134507\n",
      "140816.7201306493\n",
      "118402.17132470512\n",
      "105575.8712615898\n",
      "144282.74915416527\n",
      "131443.82924135547\n",
      "164930.04429029825\n",
      "123224.84009861821\n",
      "75539.82862377792\n",
      "151816.32887363402\n",
      "103714.13580913887\n",
      "133669.39655049265\n",
      "141639.89715001502\n",
      "160345.5545914842\n",
      "52178.344124599374\n",
      "97340.14694614847\n",
      "78012.6712229331\n",
      "192259.0922159131\n",
      "152312.43180876214\n",
      "130443.82467479428\n",
      "160223.2789126529\n",
      "135880.1177698662\n",
      "138395.5752952777\n",
      "114625.27901413436\n",
      "127224.84499538451\n",
      "99030.09497977774\n",
      "129965.96257840595\n",
      "128086.86643072755\n",
      "128349.25825720665\n",
      "152739.98694693903\n",
      "121893.36737415838\n",
      "132900.47740497775\n",
      "115637.95708888331\n",
      "143618.09365710002\n",
      "132758.2501024742\n",
      "135098.01535021205\n",
      "132294.20965482687\n",
      "95276.58203529772\n",
      "96038.87420514553\n",
      "133329.21300410517\n",
      "89133.65328036193\n",
      "35369.01899618152\n",
      "102364.77504852471\n",
      "122704.230527493\n",
      "179589.13311242548\n",
      "143717.18461248899\n",
      "40912.26796419223\n",
      "108152.26210619169\n",
      "155697.69389280968\n",
      "32436.42672358369\n",
      "143223.39623337475\n",
      "139604.31104380728\n",
      "108797.35554318078\n",
      "103183.37174389347\n",
      "137759.8932865911\n",
      "127188.44044172278\n",
      "150733.2635160435\n",
      "143482.71036736088\n",
      "49017.01289405438\n",
      "142169.24154890445\n",
      "123505.62043205806\n",
      "117940.32525670977\n",
      "126385.57316837377\n",
      "82493.81958591605\n",
      "126128.948047616\n",
      "89322.5219016768\n",
      "156207.05677018885\n",
      "132730.2160137233\n",
      "82968.0651317871\n",
      "149479.7456111331\n",
      "146898.30301643308\n",
      "148299.14597418683\n",
      "161015.14005780013\n",
      "177237.81289090947\n",
      "36076.11891267286\n",
      "115098.94105506767\n",
      "115492.37090163596\n",
      "150013.45818218216\n",
      "119340.14795106174\n",
      "132277.16171790668\n",
      "164668.02706201066\n",
      "154293.3172025719\n",
      "224833.45932284257\n",
      "147110.05520773857\n",
      "145846.56499019236\n",
      "119656.33037036387\n",
      "152720.83964484266\n",
      "118877.21125221864\n",
      "301119.59687179147\n",
      "286861.9979400729\n",
      "286909.5267947397\n",
      "361727.59221636533\n",
      "346393.7065097905\n",
      "215451.54312255944\n",
      "292746.29274580075\n",
      "204766.1696517994\n",
      "219146.26683703138\n",
      "267648.93750087876\n",
      "183794.97533076117\n",
      "254722.19514849473\n",
      "141013.95391473908\n",
      "197375.79486933496\n",
      "200154.15839553883\n",
      "208455.81126350406\n",
      "194092.98137128202\n",
      "140649.48746877405\n",
      "124313.4358025408\n",
      "243378.83654106094\n",
      "238591.38397087005\n",
      "176706.54921445515\n",
      "196720.42616008018\n",
      "231810.1785387852\n",
      "292819.47787172534\n",
      "214555.97411917459\n",
      "250219.1828022765\n",
      "181487.5559637365\n",
      "103336.17706664602\n",
      "115576.62493991898\n",
      "101037.71764148191\n",
      "126805.40386788719\n",
      "134676.08974826586\n",
      "138298.58129255823\n",
      "127200.07378593643\n",
      "120875.35070056224\n",
      "106445.15967362575\n",
      "166522.9124665645\n",
      "154750.6092695395\n",
      "185641.4369492832\n",
      "166069.55809135924\n",
      "205930.0614872905\n",
      "154951.1036551317\n",
      "198705.91041319226\n",
      "158168.2758509248\n",
      "230636.25659924437\n",
      "107308.42899936481\n",
      "134676.8242579255\n",
      "117428.61477888825\n",
      "220948.4969236281\n",
      "321108.59067117993\n",
      "169031.62335940264\n",
      "44114.711236577336\n",
      "347626.036621036\n",
      "53224.722158773846\n",
      "231839.7491480859\n",
      "132644.48177607573\n",
      "158375.62432825964\n",
      "158607.41119359367\n",
      "396442.7449967718\n",
      "347197.922296409\n",
      "232890.72654697165\n",
      "241746.37354365786\n",
      "202630.51788198476\n",
      "384798.49523806304\n",
      "125667.0747309427\n",
      "176316.03703942735\n",
      "113599.2552289055\n",
      "121567.99197310158\n",
      "132144.59515590745\n",
      "125852.85724776842\n",
      "211578.93235888105\n",
      "183842.6211170112\n",
      "172947.42408226815\n",
      "206130.03494557054\n",
      "185355.91525504962\n",
      "170921.398693494\n",
      "261939.66285291075\n",
      "196220.84453155793\n",
      "164591.31131724353\n",
      "166817.24222791157\n",
      "237957.43085697605\n",
      "381531.51278304914\n",
      "411241.34504605574\n",
      "134638.32151467417\n",
      "225438.7544181645\n",
      "165514.48705977915\n",
      "248226.64845741697\n",
      "186751.71102427618\n",
      "255277.34843865322\n",
      "213391.68791538838\n",
      "177720.5203780884\n",
      "181158.1298221286\n",
      "132779.25124256086\n",
      "270406.5188936581\n",
      "155346.91963632443\n",
      "257638.48688693647\n",
      "141459.00612626824\n",
      "96618.62956331114\n",
      "124598.76218104018\n",
      "94137.95655072131\n",
      "105758.338302401\n",
      "106642.15522283963\n",
      "137102.04095275636\n",
      "131207.17812207874\n",
      "310573.39026905684\n",
      "400860.75565288705\n",
      "392512.48464323167\n",
      "401316.4383558475\n",
      "433722.5472111509\n",
      "367469.9205860943\n",
      "296818.64278455666\n",
      "339587.17714794225\n",
      "433560.28544911323\n",
      "271994.4683744373\n",
      "340891.42527273763\n",
      "344324.0022313522\n",
      "323886.0039638805\n",
      "212911.39440177922\n",
      "351205.56077538355\n",
      "217881.67648080134\n",
      "202794.67505646186\n",
      "177013.06240718457\n",
      "224076.82339143695\n",
      "209218.36615637311\n",
      "197516.1290317963\n",
      "178179.04156877784\n",
      "193606.45588691873\n",
      "208944.67618897403\n",
      "230779.9215754231\n",
      "214831.05754056154\n",
      "164834.15953884055\n",
      "223585.03460420706\n",
      "186728.8972034846\n",
      "267930.42418115103\n",
      "338443.6784664332\n",
      "320221.74827835435\n",
      "313655.7873011379\n",
      "313876.0938217817\n",
      "309107.0198076138\n",
      "248923.54081252211\n",
      "251393.5236036111\n",
      "282253.0828842076\n",
      "230737.37642714824\n",
      "220028.01086169624\n",
      "243415.36872810396\n",
      "230202.1752298749\n",
      "206891.22669681578\n",
      "192239.6830221568\n",
      "129728.51226926051\n",
      "178620.62656472385\n",
      "182413.69218217023\n",
      "188908.4052407652\n",
      "222002.8178672674\n",
      "194346.8714710096\n",
      "196910.65583376234\n",
      "105839.22741111979\n",
      "132051.0549047109\n",
      "71799.10889683545\n",
      "98625.35038399308\n",
      "231684.77961612193\n",
      "149284.1485644032\n",
      "286500.2880802278\n",
      "357579.87827396387\n",
      "165398.2402985207\n",
      "160816.10945054566\n",
      "154450.72484430615\n",
      "167704.27665044574\n",
      "261822.81565387477\n",
      "231608.81093479536\n",
      "257652.8081136218\n",
      "248192.75895973295\n",
      "166742.02685312572\n",
      "224836.75827576342\n",
      "196235.02003231557\n",
      "207411.84069159435\n",
      "308575.7817951628\n",
      "236543.6828540038\n",
      "284291.74370323995\n",
      "320868.96759146266\n",
      "203687.72330890762\n",
      "174349.46160650213\n",
      "164545.93233990975\n",
      "208556.96259747757\n",
      "150033.69047502155\n",
      "137830.74190006993\n",
      "141172.9340217929\n",
      "149812.9185847976\n",
      "164604.36789849983\n",
      "91330.74733562903\n",
      "112093.48961124485\n",
      "143125.3693268196\n",
      "85959.39402764213\n",
      "165616.00846028797\n",
      "139640.67253012763\n",
      "103268.49433851034\n",
      "225267.80828359208\n",
      "131494.24217807953\n",
      "168282.2169706026\n",
      "170514.75911715612\n",
      "122858.27181105933\n",
      "111074.80090465206\n",
      "142133.24359820964\n",
      "134101.28621871097\n",
      "174319.45807620537\n",
      "117804.00721695734\n",
      "157794.46388389124\n",
      "77103.14194741978\n",
      "108669.0563371595\n",
      "98341.04718725987\n",
      "144640.5045276518\n",
      "125156.2022705955\n",
      "179922.5748484456\n",
      "163184.39805956278\n",
      "118562.56846145712\n",
      "157411.81440353824\n",
      "126157.92767822137\n",
      "131345.7014916436\n",
      "109508.26052118928\n",
      "124129.80428898471\n",
      "137852.2767508324\n",
      "150795.1194390038\n",
      "96795.16088221784\n",
      "102984.98872249908\n",
      "104005.8953756419\n",
      "114205.97671643124\n",
      "101623.39627799914\n",
      "69696.29518146168\n",
      "116815.28601969215\n",
      "117150.66824062548\n",
      "129589.75282679961\n",
      "133154.63327458114\n",
      "118253.98617591758\n",
      "178905.0741739886\n",
      "74879.46168345679\n",
      "93541.0959131586\n",
      "155630.96967674542\n",
      "37434.654564496246\n",
      "71036.66095279068\n",
      "114890.40999545743\n",
      "120320.3018391522\n",
      "102906.02747972227\n",
      "138232.63702260103\n",
      "133447.28540552466\n",
      "51522.312436361855\n",
      "202886.89711911342\n",
      "107922.96279669741\n",
      "103638.20997031302\n",
      "128739.91689555823\n",
      "122129.30354907314\n",
      "142074.51567467785\n",
      "118859.74637565349\n",
      "120874.59608655376\n",
      "165544.63166931563\n",
      "117890.00975054293\n",
      "157877.68480432493\n",
      "138017.12977653695\n",
      "123695.75489788991\n",
      "113495.35915356956\n",
      "85989.48969467892\n",
      "121160.99405740277\n",
      "75478.59678942528\n",
      "165024.5697343248\n",
      "136270.83560296142\n",
      "172716.97800387532\n",
      "160531.35066742174\n",
      "127810.25120283716\n",
      "72068.83921241337\n",
      "141292.8537076512\n",
      "141419.03928442713\n",
      "118279.57685439131\n",
      "127431.3723442032\n",
      "124910.26185116435\n",
      "86282.82014034902\n",
      "76999.87479200268\n",
      "106753.58098171532\n",
      "128272.49612699472\n",
      "143217.11489958724\n",
      "138801.6934405784\n",
      "163649.65683742656\n",
      "127264.73133885142\n",
      "149894.3619509508\n",
      "132032.66275118967\n",
      "142462.61358567787\n",
      "178505.0705782955\n",
      "158365.4458097478\n",
      "110158.63618257556\n",
      "139895.2186436075\n",
      "238535.80865220173\n",
      "118170.97068452442\n",
      "200855.03491722074\n",
      "163235.1201234776\n",
      "91320.48060903959\n",
      "139472.9899449611\n",
      "249486.29441476258\n",
      "234930.81897140312\n",
      "244900.2904734712\n",
      "211699.29342642703\n",
      "199123.36690538347\n",
      "226513.41149349403\n",
      "340915.1824224202\n",
      "361280.3246882884\n",
      "254121.37875854195\n",
      "205430.10340003818\n",
      "157902.17894837476\n",
      "226196.22573988154\n",
      "189689.67787288138\n",
      "195309.67862492462\n",
      "212301.00960946426\n",
      "153477.09764894808\n",
      "134697.10711900867\n",
      "161232.42802887838\n",
      "219056.09451399458\n",
      "280026.7034353538\n",
      "316078.00386578357\n",
      "241355.13949276754\n",
      "212243.59151929416\n",
      "132552.58121677523\n",
      "230210.5841391446\n",
      "195145.68919318504\n",
      "218422.0299226642\n",
      "190480.4606343905\n",
      "118130.83012987484\n",
      "127272.39257279124\n",
      "150279.52607626462\n",
      "149617.5496927484\n",
      "155837.98446328653\n",
      "245562.71099436723\n",
      "74204.65267316908\n",
      "56015.71878970454\n",
      "78172.79371575192\n",
      "122842.92323365054\n",
      "102879.68995247014\n",
      "107383.97814212428\n",
      "109953.04892599233\n",
      "115994.98258246086\n",
      "153585.3097441574\n",
      "177627.83512992726\n",
      "147291.8642644531\n",
      "159541.75367357815\n",
      "200405.66004725348\n",
      "161707.17531217285\n",
      "189734.15845331547\n",
      "121711.98370020311\n",
      "142986.10371576235\n",
      "237608.51252804906\n",
      "244646.43403139725\n",
      "258767.7110995163\n",
      "125907.55084978571\n",
      "116042.62269594955\n",
      "119498.63318806971\n",
      "108885.04631682059\n",
      "139371.01011512274\n",
      "98502.70640247373\n",
      "154771.0044255752\n",
      "68152.16763271597\n",
      "64941.906266844846\n",
      "49220.773249745806\n",
      "37630.92904770665\n",
      "348277.1321900849\n",
      "304292.2054969925\n",
      "281266.44430043316\n",
      "203234.81141820713\n",
      "121382.45400022919\n",
      "186759.26332500804\n",
      "192720.29721781306\n",
      "286313.9829967692\n",
      "257784.29286655685\n",
      "147822.35099196777\n",
      "220807.3272909455\n",
      "180729.0339042783\n",
      "198840.9113762454\n",
      "255865.6176268552\n",
      "234189.4465564031\n",
      "253909.91220237655\n",
      "304437.50157541287\n",
      "207294.63139435463\n",
      "82499.87634035114\n",
      "155251.91053151034\n",
      "141615.48375391983\n",
      "125968.69758344907\n",
      "127096.43767424265\n",
      "104004.97480233257\n",
      "109807.26410005828\n",
      "139713.0434393314\n",
      "122831.96161151862\n",
      "116923.98351490404\n",
      "109281.58757768694\n",
      "120806.90137979548\n",
      "106957.38705546096\n",
      "191642.69393344154\n",
      "155658.2856798907\n",
      "175588.54154145674\n",
      "187208.29396060083\n",
      "166144.06454590798\n",
      "202567.30332568864\n",
      "146787.80182497148\n",
      "174614.63489043896\n",
      "155497.37498790995\n",
      "209773.42798999953\n",
      "230394.13523354937\n",
      "383099.4694431439\n",
      "407751.8247948946\n",
      "149559.09245220665\n",
      "324538.37269334716\n",
      "362604.2829287619\n",
      "455797.47202745033\n",
      "154512.4508768628\n",
      "193393.8824063039\n",
      "216476.53048245294\n",
      "207660.4168654004\n",
      "154618.42718657223\n",
      "186356.73390093612\n",
      "169520.64163132958\n",
      "195345.94249982934\n",
      "180501.6589619034\n",
      "140397.1374944191\n",
      "135340.20436733103\n",
      "107089.18052499773\n",
      "157625.96454974392\n",
      "180438.18667535894\n",
      "107573.99030828325\n",
      "129882.85722194368\n",
      "139255.43278474602\n",
      "119957.38927915547\n",
      "385993.6029033134\n",
      "292625.1423151991\n",
      "351472.76271406456\n",
      "434297.6471247127\n",
      "345162.6669829639\n",
      "413335.014604982\n",
      "446147.3371432363\n",
      "390715.46247659076\n",
      "439541.2606397063\n",
      "282264.0899830548\n",
      "382776.246680213\n",
      "375726.9636152503\n",
      "343393.139618119\n",
      "323506.66138236667\n",
      "334687.7530442446\n",
      "254048.09739847583\n",
      "238338.10551060343\n",
      "259977.2564876569\n",
      "207556.3182531335\n",
      "196649.64664890582\n",
      "205360.1535450541\n",
      "224273.3221967818\n",
      "306470.99363732256\n",
      "217118.71296046628\n",
      "208805.27838762576\n",
      "184773.51933013214\n",
      "170558.7386129122\n",
      "184416.88429267966\n",
      "186092.29020809729\n",
      "202096.55448007432\n",
      "194898.22624491085\n",
      "188234.49974186037\n",
      "188279.32093037193\n",
      "179324.33834811018\n",
      "238569.4778951999\n",
      "192962.43811890297\n",
      "207019.02663963605\n",
      "178221.053948301\n",
      "212835.92873993915\n",
      "170795.34555251655\n",
      "199989.8856783717\n",
      "221277.90192244208\n",
      "188078.9541423405\n",
      "178991.53124217186\n",
      "347844.24933395383\n",
      "371544.1312192527\n",
      "320421.1507036796\n",
      "279937.3390649863\n",
      "299108.5798942898\n",
      "315769.1068421118\n",
      "196520.7480676451\n",
      "254959.4428677708\n",
      "212614.77016963012\n",
      "385050.8318546674\n",
      "211575.26727787894\n",
      "223828.33265652083\n",
      "224835.06009797286\n",
      "201326.9016980356\n",
      "227114.1564457091\n",
      "215415.3059557439\n",
      "206004.54731779534\n",
      "245313.8790240042\n",
      "204403.87448131054\n",
      "318610.12603155896\n",
      "290154.1534285268\n",
      "243072.27194425958\n",
      "248667.4661666797\n",
      "153033.16080078617\n",
      "144363.81805902062\n",
      "148089.99052902887\n",
      "186667.87226857035\n",
      "204975.6783730328\n",
      "124785.04604040447\n",
      "103882.6379955699\n",
      "149892.84045190277\n",
      "251605.36991458212\n",
      "132716.7533392645\n",
      "158436.9223069909\n",
      "203592.7861991206\n",
      "194894.86577613154\n",
      "212481.36427601936\n",
      "224418.8607565908\n",
      "208606.05012782488\n",
      "167589.1385236401\n",
      "164305.3830737039\n",
      "194140.54670269633\n",
      "278771.68306014227\n",
      "297063.2876401233\n",
      "235261.99880810245\n",
      "284450.778738887\n",
      "320080.6584689252\n",
      "148600.52101831275\n",
      "208139.4928239664\n",
      "142102.03502649066\n",
      "171014.5439459689\n",
      "195319.73364663878\n",
      "191536.53269074438\n",
      "233779.61851535412\n",
      "159850.14900441375\n",
      "134704.41446656903\n",
      "125080.47228793273\n",
      "101068.35580766694\n",
      "119537.45606479142\n",
      "159775.23996262846\n",
      "154171.11005425913\n",
      "115378.32035163089\n",
      "177198.97493442323\n",
      "154143.63764068577\n",
      "199778.6922996314\n",
      "135043.91113149512\n",
      "210171.56658960023\n",
      "128709.46922623634\n",
      "61970.07664395477\n",
      "52721.872088686694\n",
      "122809.736415537\n",
      "133245.22453471262\n",
      "147408.5634179465\n",
      "157536.02208926\n",
      "154421.4091910179\n",
      "130200.4561849341\n",
      "121792.65378877091\n",
      "119171.50395576564\n",
      "113359.4128133466\n",
      "175398.00769308407\n",
      "109715.88824102878\n",
      "162357.3266670967\n",
      "123582.21600785927\n",
      "173199.44657730244\n",
      "141419.53522160262\n",
      "124453.05017113304\n",
      "132803.82076826075\n",
      "132315.58189275145\n",
      "123245.31041925067\n",
      "126910.21627008828\n",
      "136171.1141354457\n",
      "108709.74254468082\n",
      "134640.17080215493\n",
      "152752.3194624663\n",
      "198151.74422768143\n",
      "150379.02897978883\n",
      "137548.28625676545\n",
      "182924.19522718297\n",
      "101881.2461321361\n",
      "126161.25035668828\n",
      "101440.65279026217\n",
      "157375.66966902392\n",
      "149299.82085002895\n",
      "142021.61987913086\n",
      "172100.08559754828\n",
      "105111.6398708315\n",
      "87108.99861252162\n",
      "115331.14739807535\n",
      "97832.00231543793\n",
      "121467.9375529653\n",
      "87913.31613956759\n",
      "91161.12018171037\n",
      "133494.28252882534\n",
      "139939.8400534258\n",
      "83020.5841659443\n",
      "140439.35976355232\n",
      "189355.26166183245\n",
      "138772.29690542715\n",
      "109617.8483852835\n",
      "152947.95554701137\n",
      "131391.0472431279\n",
      "197435.78239146274\n",
      "88238.78132856195\n",
      "125516.85896158527\n",
      "123543.44388863188\n",
      "126749.23113347756\n",
      "151415.85105865813\n",
      "141920.1103416036\n",
      "117383.33064030681\n",
      "146796.8557159619\n",
      "126389.18285396326\n",
      "138791.47123806254\n",
      "126256.63371850722\n",
      "183473.9013478705\n",
      "142145.9140061663\n",
      "120750.51721800053\n",
      "124764.26223767147\n",
      "94761.70289239667\n",
      "90713.4312918317\n",
      "207538.28032524095\n",
      "208292.20757835128\n",
      "168751.17741970712\n",
      "119187.36769068315\n",
      "83849.45876333947\n",
      "205118.2764155953\n",
      "95873.81201883251\n",
      "120279.95805639357\n",
      "153256.20797939136\n",
      "103151.69953201058\n",
      "170511.68846044596\n",
      "123520.32277365241\n",
      "108268.84078202347\n",
      "104688.65665305374\n",
      "119713.91445189175\n",
      "122954.45856109151\n",
      "171765.51294102025\n",
      "202156.91021839785\n",
      "154033.80465412108\n",
      "157604.15151876496\n",
      "143860.9115391559\n",
      "76835.12373561284\n",
      "188204.60074182093\n",
      "167177.16850669702\n",
      "155010.19599918317\n",
      "72604.39751060006\n",
      "223116.95343145367\n",
      "154479.5564437288\n",
      "107104.62978876998\n",
      "78360.20838243756\n",
      "124747.82787507787\n",
      "137677.6608603547\n",
      "150240.57201551183\n",
      "112991.8364912424\n",
      "171266.9101538572\n",
      "227723.07619343017\n",
      "248776.03205587273\n",
      "274795.1555582062\n",
      "245885.8883581801\n",
      "214671.23124437805\n",
      "208772.34261471315\n",
      "170200.40071258572\n",
      "211445.36197779898\n",
      "217446.0196642897\n",
      "320090.983302669\n",
      "163480.51424338354\n",
      "177093.70765776656\n",
      "151085.23273962233\n",
      "162034.69727575118\n",
      "249741.7687785353\n",
      "224021.03788632338\n",
      "186008.017282066\n",
      "222648.14658640948\n",
      "113822.39060555087\n",
      "144925.6278730884\n",
      "148175.37975005718\n",
      "153878.74045971307\n",
      "121925.8452738949\n",
      "147640.3178166261\n",
      "155548.66054097487\n",
      "118851.03086064119\n",
      "255259.3347157351\n",
      "219618.4744531967\n",
      "194279.47988649507\n",
      "244194.3767947475\n",
      "276062.40849350113\n",
      "233225.48662064577\n",
      "259657.79318924996\n",
      "188611.29941691374\n",
      "180995.22845028408\n",
      "188769.09813913045\n",
      "177247.17428880176\n",
      "168161.79926703038\n",
      "122793.54121994454\n",
      "114044.24011008722\n",
      "141934.50794608903\n",
      "120879.20823765165\n",
      "136250.1547210748\n",
      "161392.14185198443\n",
      "163167.92708990152\n",
      "438264.7410661554\n",
      "138591.92901834668\n",
      "124870.72660844444\n",
      "60066.02861277746\n",
      "84775.44425960128\n",
      "114090.22373045214\n",
      "88690.40489246575\n",
      "94774.71821771825\n",
      "177992.0113414964\n",
      "156441.73022630677\n",
      "161021.8296864416\n",
      "148622.68057807093\n",
      "155930.30498710083\n",
      "144543.0133242575\n",
      "187883.5696925114\n",
      "157329.50796015348\n",
      "181089.14198523518\n",
      "133461.85577835373\n",
      "211211.7138203976\n",
      "244255.30739157883\n",
      "116833.28612254637\n",
      "206900.1637450589\n",
      "153805.47962134465\n",
      "230041.32462880315\n",
      "247189.54067218368\n",
      "134536.86625636282\n",
      "125839.86490502342\n",
      "169580.6712962584\n",
      "68669.30053990489\n",
      "39297.91569462072\n",
      "101225.13954499127\n",
      "118957.17256366368\n",
      "92767.02363630114\n",
      "282274.29438497877\n",
      "178431.16126552914\n",
      "191932.78677360297\n",
      "209638.74283867585\n",
      "200317.1693655687\n",
      "124901.75282531415\n",
      "142143.21353292014\n",
      "200814.3339790634\n",
      "214078.41133965275\n",
      "215540.4259986942\n",
      "258656.912303294\n",
      "171955.35415409793\n",
      "210474.7141225372\n",
      "283509.2241163168\n",
      "203408.10540077728\n",
      "282529.6520303801\n",
      "385088.5857038279\n",
      "131331.08060650178\n",
      "123515.11521052035\n",
      "73511.31576732773\n",
      "95814.92137627416\n",
      "87486.27542787384\n",
      "76093.87793724562\n",
      "139333.1158344476\n",
      "208042.11932211218\n",
      "182365.72510519242\n",
      "155885.28839579033\n",
      "105571.30681469826\n",
      "144911.34903990672\n",
      "153975.55170027132\n",
      "117606.37974854639\n",
      "103743.74037817528\n",
      "157222.81527325627\n",
      "148535.87663587136\n",
      "204141.73164355417\n",
      "235775.84046600712\n",
      "210388.77808048567\n",
      "188207.50724375705\n",
      "179796.7940010848\n",
      "181405.48759192883\n",
      "233244.3373376829\n",
      "287873.17860822135\n",
      "293824.8242652307\n",
      "166199.3879794699\n",
      "170162.29989853653\n",
      "457179.9442882943\n",
      "474851.8249226797\n",
      "375927.8409313409\n",
      "449709.07339840825\n",
      "407134.4837610466\n",
      "316570.8500736209\n",
      "428548.37128896336\n",
      "145845.684568613\n",
      "172238.683728976\n",
      "201027.34943334459\n",
      "271351.81868575723\n",
      "176069.55330807806\n",
      "152709.283881318\n",
      "96763.61471353182\n",
      "178819.34787481805\n",
      "104130.33186017086\n",
      "110827.47357011496\n",
      "108542.86513287175\n",
      "91647.47867703962\n",
      "105687.80383124006\n",
      "135576.68417457552\n",
      "145575.2002120021\n",
      "117846.25517577026\n",
      "140245.83906673067\n",
      "378733.5859468605\n",
      "254842.41317296846\n",
      "279040.8720978921\n",
      "406526.7800317592\n",
      "329944.17871964595\n",
      "369097.85286523454\n",
      "323637.0105740707\n",
      "317762.83950414625\n",
      "367343.13988405874\n",
      "365015.19957418996\n",
      "382980.93483368855\n",
      "286498.33265790896\n",
      "298175.10706659505\n",
      "325303.1403162008\n",
      "293237.09943169093\n",
      "185439.10627691\n",
      "185424.90234112664\n",
      "192917.90932712902\n",
      "266612.2264598376\n",
      "191095.58346209239\n",
      "196631.40778772245\n",
      "199169.68883331408\n",
      "199612.36409146662\n",
      "187539.70099305167\n",
      "191217.77849640316\n",
      "197893.03067161728\n",
      "227458.82064130667\n",
      "298607.43523549044\n",
      "298125.3594844548\n",
      "383073.8764747114\n",
      "322862.00962814456\n",
      "431577.81775435887\n",
      "325684.6793753203\n",
      "338070.92324779765\n",
      "255833.32347918907\n",
      "295296.7985063973\n",
      "210653.91120776557\n",
      "208703.2423942075\n",
      "381829.25036584947\n",
      "193262.7475994208\n",
      "149965.98226355965\n",
      "209495.7227821965\n",
      "138658.47527284076\n",
      "196278.31572236182\n",
      "183825.77469658578\n",
      "187520.62823011263\n",
      "190546.1675880496\n",
      "165957.9001990801\n",
      "145992.14552716556\n",
      "140047.22097559297\n",
      "99006.64314589207\n",
      "118227.53920448353\n",
      "142973.73860224115\n",
      "107764.90680421576\n",
      "83980.06887856912\n",
      "100948.63913875278\n",
      "138763.24107888833\n",
      "105930.71256588194\n",
      "130060.19467713666\n",
      "269647.9391411346\n",
      "410106.2044630826\n",
      "160492.23136082725\n",
      "147365.08867114442\n",
      "172643.41027166185\n",
      "139294.8736659354\n",
      "201419.30117216028\n",
      "212027.27398283678\n",
      "149696.16517563842\n",
      "167825.70911718335\n",
      "122053.65758033568\n",
      "147599.62142634884\n",
      "138728.5518566591\n",
      "126195.98975591734\n",
      "123184.57114679838\n",
      "145584.33037084684\n",
      "178929.37280836483\n",
      "182024.14262985828\n",
      "147034.77114175595\n",
      "146672.8480004061\n",
      "121431.98705022948\n",
      "144554.85940056865\n",
      "154106.70892595654\n",
      "140159.55836957603\n",
      "138391.79279951935\n",
      "134729.0712308247\n",
      "116993.52892149155\n",
      "132764.39910303478\n",
      "155072.64425672352\n",
      "134690.51787481262\n",
      "153655.84575754238\n",
      "152909.16087201805\n",
      "158448.6911752776\n",
      "163717.37094978342\n",
      "143466.1467053632\n",
      "140511.2266582376\n",
      "145547.79813400673\n",
      "111866.15043955155\n",
      "123888.64737113359\n",
      "118576.99797702843\n",
      "134098.85344157115\n",
      "205970.06979680448\n",
      "146575.30847223208\n",
      "223303.23748063267\n",
      "137953.17682261346\n",
      "93685.77526578681\n",
      "70382.86006403944\n",
      "87228.55898455303\n",
      "172606.63631896983\n",
      "141567.29026661546\n",
      "144981.58297432697\n",
      "137905.86821864013\n",
      "176965.0733088836\n",
      "139701.49925509217\n",
      "275006.18569481216\n",
      "123073.84768653635\n",
      "75982.25554701388\n",
      "137496.65727695657\n",
      "140371.7290588609\n",
      "132881.4748465881\n",
      "95783.18921129736\n",
      "98935.98671389009\n",
      "188010.05682490993\n",
      "145521.4381513771\n",
      "116155.90635197915\n",
      "145752.856103705\n",
      "152637.87102197716\n",
      "101835.6133200575\n",
      "133326.194372966\n",
      "91227.80210528988\n",
      "79359.52961483813\n",
      "86294.26474433302\n",
      "91894.4769650957\n",
      "120540.71327354593\n",
      "138854.14833245473\n",
      "53087.68924839374\n",
      "128089.9442417321\n",
      "59213.07662426354\n",
      "171197.87053505785\n",
      "92186.46614552649\n",
      "115399.01698920658\n",
      "57000.98435840556\n",
      "167239.03172354677\n",
      "95614.80361859215\n",
      "124190.86589187948\n",
      "98398.0782679809\n",
      "217064.72698965273\n",
      "112977.59984498667\n",
      "108756.07039468881\n",
      "62504.597271083025\n",
      "98244.59018036861\n",
      "132692.99970179747\n",
      "180488.9614237506\n",
      "127318.14878283977\n",
      "97802.01275555171\n",
      "70343.27904076902\n",
      "175032.60733692825\n",
      "160401.40928789868\n",
      "129821.3972846795\n",
      "125014.37952343833\n",
      "161301.75636084177\n",
      "174912.90452091556\n",
      "164576.93328775858\n",
      "163898.2057015631\n",
      "108587.47789903195\n",
      "223364.9765988161\n",
      "157561.54697063816\n",
      "131111.789175349\n",
      "164646.9791020372\n",
      "143501.7980996044\n",
      "110108.343124851\n",
      "175076.0617667765\n",
      "280482.2600440017\n",
      "183108.38350351222\n",
      "154872.45737199945\n",
      "136529.21544703195\n",
      "137517.30395978308\n",
      "238539.83872624103\n",
      "199603.95741207968\n",
      "242163.69640249584\n",
      "183117.81032119604\n",
      "253977.36734841613\n",
      "321677.84775590757\n",
      "234592.75582278022\n",
      "231379.67153252417\n",
      "192274.1743441811\n",
      "160514.59951489774\n",
      "148766.72892966706\n",
      "173767.5903529778\n",
      "205601.84489119868\n",
      "200239.1106557174\n",
      "232378.6647801046\n",
      "149650.35660154166\n",
      "176463.00970792517\n",
      "116427.92013324934\n",
      "207038.7435316472\n",
      "217968.43673290114\n",
      "213215.87818169472\n",
      "199028.53462089965\n",
      "261063.78917384645\n",
      "210763.9096327299\n",
      "228661.86360177174\n",
      "235373.99466350826\n",
      "136890.4848087096\n",
      "202949.5555137598\n",
      "202474.33815171412\n",
      "186746.02052277455\n",
      "207971.62737256556\n",
      "101348.81279984831\n",
      "131947.69784431782\n",
      "131580.85990317422\n",
      "198248.0337496434\n",
      "134539.62645788857\n",
      "268923.6249355413\n",
      "142763.3493849789\n",
      "135091.51518212713\n",
      "87431.46278658295\n",
      "108287.81509561851\n",
      "92911.43334622921\n",
      "120229.19552725737\n",
      "78631.48858569218\n",
      "25047.09287893871\n",
      "86170.47551046296\n",
      "146372.35186971625\n",
      "105405.3661655375\n",
      "153005.88003754462\n",
      "142770.97829404596\n",
      "154706.3367902966\n",
      "150415.17891371893\n",
      "96979.35765148519\n",
      "141830.20285447285\n",
      "194080.2166842618\n",
      "209724.23952169257\n",
      "185997.85662489408\n",
      "190272.93889813023\n",
      "241126.51249871406\n",
      "99851.53731345545\n",
      "148233.62281246396\n",
      "34363.04127114275\n",
      "70932.72121232981\n",
      "147584.6527166578\n",
      "14035.716682449827\n",
      "69183.48583705512\n",
      "25652.24504253213\n",
      "340015.5329203402\n",
      "287864.164165153\n",
      "220743.29421218688\n",
      "129517.82972930309\n",
      "209986.23183318003\n",
      "160203.6651231961\n",
      "211380.25032582114\n",
      "183955.63693907898\n",
      "313843.2901186693\n",
      "358987.93084627384\n",
      "77848.33143187685\n",
      "195976.8025054758\n",
      "111372.90513707382\n",
      "113331.52630334321\n",
      "134315.07580094383\n",
      "69753.26335898975\n",
      "69446.02396776853\n",
      "151171.40689697958\n",
      "69521.70707841418\n",
      "69854.70792870432\n",
      "77852.03507690503\n",
      "75143.70292313182\n",
      "180885.2860806964\n",
      "110597.19937110321\n",
      "220334.56493327892\n"
     ]
    }
   ],
   "source": [
    "for a in y_pred:\n",
    "    print (a)"
   ]
  },
  {
   "cell_type": "code",
   "execution_count": null,
   "id": "1647cea8",
   "metadata": {
    "collapsed": true
   },
   "outputs": [],
   "source": []
  }
 ],
 "metadata": {
  "kernelspec": {
   "display_name": "Python 3 (ipykernel)",
   "language": "python",
   "name": "python3"
  },
  "language_info": {
   "codemirror_mode": {
    "name": "ipython",
    "version": 3
   },
   "file_extension": ".py",
   "mimetype": "text/x-python",
   "name": "python",
   "nbconvert_exporter": "python",
   "pygments_lexer": "ipython3",
   "version": "3.9.7"
  }
 },
 "nbformat": 4,
 "nbformat_minor": 5
}
